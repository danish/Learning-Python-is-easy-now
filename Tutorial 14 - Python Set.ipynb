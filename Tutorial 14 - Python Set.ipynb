{
 "cells": [
  {
   "cell_type": "markdown",
   "id": "84169c52",
   "metadata": {},
   "source": [
    "# Python Sets\n"
   ]
  },
  {
   "cell_type": "code",
   "execution_count": 2,
   "id": "a441fd9c",
   "metadata": {},
   "outputs": [
    {
     "name": "stdout",
     "output_type": "stream",
     "text": [
      "{'Canada', 'India', 'UK', 'USA'}\n",
      "<class 'set'>\n"
     ]
    }
   ],
   "source": [
    "countires = { 'India', 'USA' , 'UK' , 'Canada' }\n",
    "\n",
    "print(countires)\n",
    "print(type(countires) )"
   ]
  },
  {
   "cell_type": "code",
   "execution_count": 4,
   "id": "40d61080",
   "metadata": {},
   "outputs": [
    {
     "name": "stdout",
     "output_type": "stream",
     "text": [
      "{'Canada', 'India', 'UK', 'USA'}\n",
      "Canada\n",
      "India\n",
      "UK\n",
      "USA\n"
     ]
    }
   ],
   "source": [
    "countires = { 'India', 'USA' , 'UK' , 'Canada' }\n",
    "\n",
    "print(countires)\n",
    "\n",
    "for x in countires:\n",
    "    print(x)\n"
   ]
  },
  {
   "cell_type": "code",
   "execution_count": 5,
   "id": "38182311",
   "metadata": {},
   "outputs": [
    {
     "name": "stdout",
     "output_type": "stream",
     "text": [
      "4\n"
     ]
    }
   ],
   "source": [
    "print(len(countires))"
   ]
  },
  {
   "cell_type": "code",
   "execution_count": 7,
   "id": "962a7728",
   "metadata": {},
   "outputs": [
    {
     "name": "stdout",
     "output_type": "stream",
     "text": [
      "{'Canada', 'India', 'UK', 'USA'}\n"
     ]
    }
   ],
   "source": [
    "countries = set(( 'India', 'USA' , 'UK' , 'Canada' ))\n",
    "print(countries)"
   ]
  },
  {
   "cell_type": "code",
   "execution_count": 9,
   "id": "7221fb30",
   "metadata": {},
   "outputs": [
    {
     "name": "stdout",
     "output_type": "stream",
     "text": [
      "False\n"
     ]
    }
   ],
   "source": [
    "print( \"Japan\" in countries ) "
   ]
  },
  {
   "cell_type": "code",
   "execution_count": 10,
   "id": "5815502c",
   "metadata": {},
   "outputs": [
    {
     "name": "stdout",
     "output_type": "stream",
     "text": [
      "{'Canada', 'India', 'UK', 'USA'}\n"
     ]
    }
   ],
   "source": [
    "countries = { 'India', 'USA' , 'UK' , 'Canada' }\n",
    "print(countries)\n"
   ]
  },
  {
   "cell_type": "code",
   "execution_count": 11,
   "id": "5420246d",
   "metadata": {},
   "outputs": [
    {
     "name": "stdout",
     "output_type": "stream",
     "text": [
      "{'Japan', 'India', 'USA', 'Canada', 'UK'}\n"
     ]
    }
   ],
   "source": [
    "countries.add(\"Japan\")\n",
    "print(countries)\n"
   ]
  },
  {
   "cell_type": "code",
   "execution_count": 14,
   "id": "036c0407",
   "metadata": {},
   "outputs": [
    {
     "name": "stdout",
     "output_type": "stream",
     "text": [
      "{'Japan', 'India', 'Canada', 'UK'}\n"
     ]
    }
   ],
   "source": [
    "countries.remove(\"USA\")\n",
    "print(countries)"
   ]
  },
  {
   "cell_type": "code",
   "execution_count": 15,
   "id": "8bf5df69",
   "metadata": {},
   "outputs": [
    {
     "name": "stdout",
     "output_type": "stream",
     "text": [
      "set()\n"
     ]
    }
   ],
   "source": [
    "countries.clear()\n",
    "print(countries)"
   ]
  },
  {
   "cell_type": "code",
   "execution_count": null,
   "id": "7d0e0fcf",
   "metadata": {},
   "outputs": [],
   "source": []
  }
 ],
 "metadata": {
  "kernelspec": {
   "display_name": "Python 3 (ipykernel)",
   "language": "python",
   "name": "python3"
  },
  "language_info": {
   "codemirror_mode": {
    "name": "ipython",
    "version": 3
   },
   "file_extension": ".py",
   "mimetype": "text/x-python",
   "name": "python",
   "nbconvert_exporter": "python",
   "pygments_lexer": "ipython3",
   "version": "3.9.7"
  }
 },
 "nbformat": 4,
 "nbformat_minor": 5
}
