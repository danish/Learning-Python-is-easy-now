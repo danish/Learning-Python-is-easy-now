{
 "cells": [
  {
   "cell_type": "markdown",
   "id": "8954a837",
   "metadata": {},
   "source": [
    "# Lambda Function"
   ]
  },
  {
   "cell_type": "raw",
   "id": "5e5e2348",
   "metadata": {},
   "source": [
    "lambda arguments : expression\n",
    "\n",
    "- Also called anonymous function"
   ]
  },
  {
   "cell_type": "code",
   "execution_count": 1,
   "id": "645b19bc",
   "metadata": {},
   "outputs": [],
   "source": [
    "def add (a,b):\n",
    "    s = a + b\n",
    "    return s"
   ]
  },
  {
   "cell_type": "code",
   "execution_count": 4,
   "id": "9ce1ceaf",
   "metadata": {},
   "outputs": [
    {
     "name": "stdout",
     "output_type": "stream",
     "text": [
      "30\n"
     ]
    }
   ],
   "source": [
    "x =  lambda a, b: a + b\n",
    "\n",
    "print(x(10, 20))"
   ]
  },
  {
   "cell_type": "raw",
   "id": "15a93c0d",
   "metadata": {},
   "source": [
    "x = lambda a : a * 50"
   ]
  },
  {
   "cell_type": "code",
   "execution_count": 5,
   "id": "668f5a34",
   "metadata": {},
   "outputs": [
    {
     "name": "stdout",
     "output_type": "stream",
     "text": [
      "500\n"
     ]
    }
   ],
   "source": [
    "def my_function( n ):\n",
    "    return lambda a : a * n\n",
    "\n",
    "x = my_function(50)\n",
    "\n",
    "print( x(10) )\n"
   ]
  },
  {
   "cell_type": "code",
   "execution_count": null,
   "id": "ede5240f",
   "metadata": {},
   "outputs": [],
   "source": []
  }
 ],
 "metadata": {
  "kernelspec": {
   "display_name": "Python 3 (ipykernel)",
   "language": "python",
   "name": "python3"
  },
  "language_info": {
   "codemirror_mode": {
    "name": "ipython",
    "version": 3
   },
   "file_extension": ".py",
   "mimetype": "text/x-python",
   "name": "python",
   "nbconvert_exporter": "python",
   "pygments_lexer": "ipython3",
   "version": "3.9.7"
  }
 },
 "nbformat": 4,
 "nbformat_minor": 5
}
