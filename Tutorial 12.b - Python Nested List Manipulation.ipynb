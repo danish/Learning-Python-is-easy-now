{
 "cells": [
  {
   "cell_type": "code",
   "execution_count": 30,
   "id": "922c1fa0",
   "metadata": {},
   "outputs": [
    {
     "name": "stdout",
     "output_type": "stream",
     "text": [
      "[31, 41, 51, 61, 71]\n",
      "51\n"
     ]
    }
   ],
   "source": [
    "marks  =  [ [30,40,50,60,70],  [31,41,51,61,71],  [32,42,52,62,72] ]\n",
    "\n",
    "print(marks[1])\n",
    "\n",
    "print(marks[1][2])"
   ]
  },
  {
   "cell_type": "code",
   "execution_count": 34,
   "id": "98c29d70",
   "metadata": {
    "scrolled": true
   },
   "outputs": [
    {
     "name": "stdout",
     "output_type": "stream",
     "text": [
      "[30, 40, 50, 60, 70]\n",
      "250\n",
      "[31, 41, 51, 61, 71]\n",
      "255\n",
      "[32, 42, 52, 62, 72]\n",
      "260\n",
      "[[30, 40, 50, 60, 70, 250], [31, 41, 51, 61, 71, 255], [32, 42, 52, 62, 72, 260]]\n"
     ]
    }
   ],
   "source": [
    "for x in marks:\n",
    "    print(x)\n",
    "    sum = 0\n",
    "    for m in x:\n",
    "        sum = sum + m\n",
    "    \n",
    "    print(sum)    \n",
    "    x.append(sum)\n",
    "    \n",
    "print(marks)    "
   ]
  },
  {
   "cell_type": "code",
   "execution_count": null,
   "id": "4ebc5b29",
   "metadata": {},
   "outputs": [],
   "source": []
  }
 ],
 "metadata": {
  "kernelspec": {
   "display_name": "Python 3 (ipykernel)",
   "language": "python",
   "name": "python3"
  },
  "language_info": {
   "codemirror_mode": {
    "name": "ipython",
    "version": 3
   },
   "file_extension": ".py",
   "mimetype": "text/x-python",
   "name": "python",
   "nbconvert_exporter": "python",
   "pygments_lexer": "ipython3",
   "version": "3.9.7"
  }
 },
 "nbformat": 4,
 "nbformat_minor": 5
}
