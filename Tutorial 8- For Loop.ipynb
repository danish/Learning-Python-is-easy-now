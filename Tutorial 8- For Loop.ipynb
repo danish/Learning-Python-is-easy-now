{
 "cells": [
  {
   "cell_type": "markdown",
   "id": "0548f229",
   "metadata": {},
   "source": [
    "# Python If Else"
   ]
  },
  {
   "cell_type": "raw",
   "id": "0eec9730",
   "metadata": {},
   "source": [
    "if  condition:\n",
    "    statemnet1\n",
    "    statemnet2\n",
    "    statemnet3"
   ]
  },
  {
   "cell_type": "code",
   "execution_count": 10,
   "id": "4c9f4086",
   "metadata": {},
   "outputs": [
    {
     "name": "stdout",
     "output_type": "stream",
     "text": [
      "End of the if\n"
     ]
    }
   ],
   "source": [
    "x = 10\n",
    "y = 50\n",
    "\n",
    "if x > y:\n",
    "    print(\"X is greater than y\")\n",
    "    print(\"In If\")\n",
    "print(\"End of the if\")"
   ]
  },
  {
   "cell_type": "markdown",
   "id": "2cacb1e2",
   "metadata": {},
   "source": [
    "# If Else"
   ]
  },
  {
   "cell_type": "code",
   "execution_count": 12,
   "id": "57fcda74",
   "metadata": {},
   "outputs": [
    {
     "name": "stdout",
     "output_type": "stream",
     "text": [
      "X is greater than y\n",
      "In If\n"
     ]
    }
   ],
   "source": [
    "x = 10\n",
    "y = 5\n",
    "\n",
    "if x > y:\n",
    "    print(\"X is greater than y\")\n",
    "    print(\"In If\")\n",
    "else:\n",
    "    print(\"x is not greater than y\")\n",
    "    print('end else')\n",
    "\n",
    "    "
   ]
  },
  {
   "cell_type": "markdown",
   "id": "57449478",
   "metadata": {},
   "source": [
    "# If elif else"
   ]
  },
  {
   "cell_type": "code",
   "execution_count": 16,
   "id": "08f412dc",
   "metadata": {},
   "outputs": [
    {
     "name": "stdout",
     "output_type": "stream",
     "text": [
      "Your grade is D\n",
      "End of if elif\n"
     ]
    }
   ],
   "source": [
    "marks = 45\n",
    "\n",
    "if marks >= 90:\n",
    "    print(\"Your grade is A\")\n",
    "elif marks >= 70:\n",
    "    print(\"Your grade is B\")\n",
    "elif marks >= 50:\n",
    "    print(\"Your grade is C\")\n",
    "else:\n",
    "    print(\"Your grade is D\")\n",
    "\n",
    "print(\"End of if elif\")    "
   ]
  },
  {
   "cell_type": "markdown",
   "id": "3d9ef4db",
   "metadata": {},
   "source": [
    "# Short Hand IF"
   ]
  },
  {
   "cell_type": "code",
   "execution_count": 18,
   "id": "854f9a78",
   "metadata": {},
   "outputs": [
    {
     "name": "stdout",
     "output_type": "stream",
     "text": [
      "50\n"
     ]
    }
   ],
   "source": [
    "x = 10\n",
    "y = 50\n",
    "\n",
    "z = x if x>y else y\n",
    "\n",
    "print(z)"
   ]
  },
  {
   "cell_type": "code",
   "execution_count": 20,
   "id": "03c5b42c",
   "metadata": {},
   "outputs": [],
   "source": [
    "if True:\n",
    "    pass"
   ]
  },
  {
   "cell_type": "code",
   "execution_count": 22,
   "id": "cb569a52",
   "metadata": {},
   "outputs": [
    {
     "name": "stdout",
     "output_type": "stream",
     "text": [
      "Else case\n"
     ]
    }
   ],
   "source": [
    "x = 10\n",
    "y = 5\n",
    "\n",
    "if x < y:\n",
    "    pass\n",
    "else:\n",
    "    print(\"Else case\")"
   ]
  },
  {
   "cell_type": "code",
   "execution_count": null,
   "id": "6fba4fab",
   "metadata": {},
   "outputs": [],
   "source": []
  }
 ],
 "metadata": {
  "kernelspec": {
   "display_name": "Python 3 (ipykernel)",
   "language": "python",
   "name": "python3"
  },
  "language_info": {
   "codemirror_mode": {
    "name": "ipython",
    "version": 3
   },
   "file_extension": ".py",
   "mimetype": "text/x-python",
   "name": "python",
   "nbconvert_exporter": "python",
   "pygments_lexer": "ipython3",
   "version": "3.9.7"
  }
 },
 "nbformat": 4,
 "nbformat_minor": 5
}
