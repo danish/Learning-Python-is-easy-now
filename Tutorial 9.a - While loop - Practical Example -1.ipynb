{
 "cells": [
  {
   "cell_type": "markdown",
   "id": "e37ef5c0",
   "metadata": {},
   "source": [
    "##### 1. Write a program to print all the even numbers between 1 to 100 using a while loop.\n",
    "##### 2. Write a program to prints all the characters except vowels (a, e, i, o, u) in a string given by the user."
   ]
  },
  {
   "cell_type": "code",
   "execution_count": 1,
   "id": "1a9a957f",
   "metadata": {},
   "outputs": [
    {
     "name": "stdout",
     "output_type": "stream",
     "text": [
      "2 is the even number\n",
      "4 is the even number\n",
      "6 is the even number\n",
      "8 is the even number\n",
      "10 is the even number\n",
      "12 is the even number\n",
      "14 is the even number\n",
      "16 is the even number\n",
      "18 is the even number\n",
      "20 is the even number\n",
      "22 is the even number\n",
      "24 is the even number\n",
      "26 is the even number\n",
      "28 is the even number\n",
      "30 is the even number\n",
      "32 is the even number\n",
      "34 is the even number\n",
      "36 is the even number\n",
      "38 is the even number\n",
      "40 is the even number\n",
      "42 is the even number\n",
      "44 is the even number\n",
      "46 is the even number\n",
      "48 is the even number\n",
      "50 is the even number\n",
      "52 is the even number\n",
      "54 is the even number\n",
      "56 is the even number\n",
      "58 is the even number\n",
      "60 is the even number\n",
      "62 is the even number\n",
      "64 is the even number\n",
      "66 is the even number\n",
      "68 is the even number\n",
      "70 is the even number\n",
      "72 is the even number\n",
      "74 is the even number\n",
      "76 is the even number\n",
      "78 is the even number\n",
      "80 is the even number\n",
      "82 is the even number\n",
      "84 is the even number\n",
      "86 is the even number\n",
      "88 is the even number\n",
      "90 is the even number\n",
      "92 is the even number\n",
      "94 is the even number\n",
      "96 is the even number\n",
      "98 is the even number\n",
      "100 is the even number\n"
     ]
    }
   ],
   "source": [
    "#Write a program to print all the even numbers between 1 to 100 using a while loop\n",
    "\n",
    "i = 1\n",
    "while i <= 100:\n",
    "    if i % 2 == 0 :\n",
    "        print(f\"{i} is the even number\")\n",
    "    i = i + 1"
   ]
  },
  {
   "cell_type": "code",
   "execution_count": 2,
   "id": "4285b4b2",
   "metadata": {},
   "outputs": [
    {
     "name": "stdout",
     "output_type": "stream",
     "text": [
      "2 is the even number\n",
      "4 is the even number\n",
      "6 is the even number\n",
      "8 is the even number\n",
      "10 is the even number\n",
      "12 is the even number\n",
      "14 is the even number\n",
      "16 is the even number\n",
      "18 is the even number\n",
      "20 is the even number\n",
      "22 is the even number\n",
      "24 is the even number\n",
      "26 is the even number\n",
      "28 is the even number\n",
      "30 is the even number\n",
      "32 is the even number\n",
      "34 is the even number\n",
      "36 is the even number\n",
      "38 is the even number\n",
      "40 is the even number\n",
      "42 is the even number\n",
      "44 is the even number\n",
      "46 is the even number\n",
      "48 is the even number\n",
      "50 is the even number\n",
      "52 is the even number\n",
      "54 is the even number\n",
      "56 is the even number\n",
      "58 is the even number\n",
      "60 is the even number\n",
      "62 is the even number\n",
      "64 is the even number\n",
      "66 is the even number\n",
      "68 is the even number\n",
      "70 is the even number\n",
      "72 is the even number\n",
      "74 is the even number\n",
      "76 is the even number\n",
      "78 is the even number\n",
      "80 is the even number\n",
      "82 is the even number\n",
      "84 is the even number\n",
      "86 is the even number\n",
      "88 is the even number\n",
      "90 is the even number\n",
      "92 is the even number\n",
      "94 is the even number\n",
      "96 is the even number\n",
      "98 is the even number\n",
      "100 is the even number\n"
     ]
    }
   ],
   "source": [
    "#Write a program to print all the even numbers between 1 to 100 using a while loop\n",
    "\n",
    "i = 2\n",
    "while i <= 100:\n",
    "    print(f\"{i} is the even number\")\n",
    "    i = i + 2"
   ]
  },
  {
   "cell_type": "raw",
   "id": "9ff4c5f4",
   "metadata": {},
   "source": [
    "Write a program to prints all the characters except vowels (a, e, i, o, u) in a string given by the user.\n"
   ]
  },
  {
   "cell_type": "code",
   "execution_count": 7,
   "id": "fdd07fc3",
   "metadata": {},
   "outputs": [
    {
     "name": "stdout",
     "output_type": "stream",
     "text": [
      "Please enter any stringNEW DELHI\n",
      "N\n",
      "W\n",
      " \n",
      "D\n",
      "L\n",
      "H\n"
     ]
    }
   ],
   "source": [
    "str = input(\"Please enter any string\")\n",
    "#New Delhi\n",
    "\n",
    "vowels = \"aeiouAEIOU\"\n",
    "\n",
    "i = 0\n",
    "while i < len(str):\n",
    "    \n",
    "    if str[i] not in vowels:\n",
    "        print(str[i])\n",
    "    \n",
    "    i = i + 1\n",
    "\n"
   ]
  },
  {
   "cell_type": "raw",
   "id": "5e473828",
   "metadata": {},
   "source": [
    "*\n",
    "**\n",
    "***\n",
    "****\n",
    "*****"
   ]
  },
  {
   "cell_type": "code",
   "execution_count": 11,
   "id": "54536d1b",
   "metadata": {},
   "outputs": [
    {
     "name": "stdout",
     "output_type": "stream",
     "text": [
      "*\n",
      "**\n",
      "***\n",
      "****\n",
      "*****\n"
     ]
    }
   ],
   "source": [
    "i = 1\n",
    "while i <= 5 :\n",
    "    print( '*' * i)\n",
    "    i = i + 1"
   ]
  },
  {
   "cell_type": "code",
   "execution_count": 13,
   "id": "968ff7e2",
   "metadata": {},
   "outputs": [
    {
     "name": "stdout",
     "output_type": "stream",
     "text": [
      "*\n",
      "**\n",
      "***\n",
      "****\n",
      "*****\n"
     ]
    }
   ],
   "source": [
    "i = 1\n",
    "while i <= 5 :\n",
    "    j = 1\n",
    "    while j <= i:\n",
    "        print('*', end = '')\n",
    "        j = j + 1\n",
    "    \n",
    "    print()    \n",
    "    i = i + 1"
   ]
  },
  {
   "cell_type": "code",
   "execution_count": null,
   "id": "2916d902",
   "metadata": {},
   "outputs": [],
   "source": []
  }
 ],
 "metadata": {
  "kernelspec": {
   "display_name": "Python 3 (ipykernel)",
   "language": "python",
   "name": "python3"
  },
  "language_info": {
   "codemirror_mode": {
    "name": "ipython",
    "version": 3
   },
   "file_extension": ".py",
   "mimetype": "text/x-python",
   "name": "python",
   "nbconvert_exporter": "python",
   "pygments_lexer": "ipython3",
   "version": "3.9.7"
  }
 },
 "nbformat": 4,
 "nbformat_minor": 5
}
