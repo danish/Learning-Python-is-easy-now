{
 "cells": [
  {
   "cell_type": "raw",
   "id": "01e5cd90",
   "metadata": {},
   "source": [
    "5! = 5 * 4!\n",
    "4! = 4 * 3!\n",
    "3! = 3 * 2!\n",
    "2! = 2* 1!\n",
    "1! = 1\n",
    "test(4) = Test n=4 => test(3)\n",
    "test(3) = Test n=3 => test(2)\n",
    "test(2) = Test n=2 => test(1)\n",
    "test(1) = Test n=1"
   ]
  },
  {
   "cell_type": "code",
   "execution_count": 2,
   "id": "20904641",
   "metadata": {},
   "outputs": [
    {
     "name": "stdout",
     "output_type": "stream",
     "text": [
      "Test n= 4\n",
      "Test n= 3\n",
      "Test n= 2\n",
      "Test n= 1\n"
     ]
    }
   ],
   "source": [
    "def test(n):\n",
    "    print(\"Test n=\", n)\n",
    "    if n > 1:\n",
    "        test(n-1)\n",
    "    \n",
    "\n",
    "test(4)    \n",
    "    "
   ]
  },
  {
   "cell_type": "raw",
   "id": "c8074aea",
   "metadata": {},
   "source": [
    "f = fact(4)\n",
    "Call 1 - fact(4) => x = 4 * 6 return x\n",
    "call 2 - fact(3) => x = 3 * 2  return x\n",
    "call 3 - fact(2) = x = 2 * 1 return x\n",
    "call 4 - fact(1) =  return 1\n"
   ]
  },
  {
   "cell_type": "code",
   "execution_count": 7,
   "id": "e013d3eb",
   "metadata": {},
   "outputs": [
    {
     "name": "stdout",
     "output_type": "stream",
     "text": [
      "Fact= 24\n"
     ]
    }
   ],
   "source": [
    "def fact( n ):\n",
    "    if n == 1:\n",
    "        return 1\n",
    "    else:\n",
    "        x = n * fact(n-1)\n",
    "        return x\n",
    "\n",
    "f = fact(4)\n",
    "print(\"Fact=\", f)"
   ]
  },
  {
   "cell_type": "code",
   "execution_count": null,
   "id": "04ca1a5e",
   "metadata": {},
   "outputs": [],
   "source": []
  }
 ],
 "metadata": {
  "kernelspec": {
   "display_name": "Python 3 (ipykernel)",
   "language": "python",
   "name": "python3"
  },
  "language_info": {
   "codemirror_mode": {
    "name": "ipython",
    "version": 3
   },
   "file_extension": ".py",
   "mimetype": "text/x-python",
   "name": "python",
   "nbconvert_exporter": "python",
   "pygments_lexer": "ipython3",
   "version": "3.9.7"
  }
 },
 "nbformat": 4,
 "nbformat_minor": 5
}
