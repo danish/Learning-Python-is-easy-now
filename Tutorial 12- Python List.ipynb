{
 "cells": [
  {
   "cell_type": "markdown",
   "id": "33c3088b",
   "metadata": {},
   "source": [
    "# Python List"
   ]
  },
  {
   "cell_type": "raw",
   "id": "c491fb95",
   "metadata": {},
   "source": [
    "Python list is used to store collections of data. \n",
    "There are 4 types of data types to store collections of data\n",
    "1. List\n",
    "2. Tuple\n",
    "3. Set\n",
    "4. Dictionary"
   ]
  },
  {
   "cell_type": "markdown",
   "id": "b541eb80",
   "metadata": {},
   "source": [
    "#### Python List\n",
    "###### List items are ordered, changeable and allow duplicate values."
   ]
  },
  {
   "cell_type": "raw",
   "id": "cf116dc4",
   "metadata": {},
   "source": [
    "List Initialize\n",
    "Access Item\n",
    "List Slicing\n",
    "len()\n",
    "type()\n",
    "list() constructor\n",
    "looping through a list\n",
    "List Comprehension\n",
    "List Function\n"
   ]
  },
  {
   "cell_type": "code",
   "execution_count": 34,
   "id": "de70deb6",
   "metadata": {},
   "outputs": [
    {
     "name": "stdout",
     "output_type": "stream",
     "text": [
      "[25, 60, 78]\n",
      "<class 'list'>\n"
     ]
    }
   ],
   "source": [
    "x = [25,60, 78]\n",
    "print(x)\n",
    "print( type(x))"
   ]
  },
  {
   "cell_type": "code",
   "execution_count": 35,
   "id": "bd97bf14",
   "metadata": {},
   "outputs": [
    {
     "name": "stdout",
     "output_type": "stream",
     "text": [
      "[25, 100.5, True, 'India', [1, 2, 5]]\n",
      "<class 'list'>\n"
     ]
    }
   ],
   "source": [
    "x = [25, 100.50, True, \"India\", [1,2,5]]\n",
    "print(x)\n",
    "print(type(x))"
   ]
  },
  {
   "cell_type": "code",
   "execution_count": 36,
   "id": "13e3128e",
   "metadata": {},
   "outputs": [
    {
     "name": "stdout",
     "output_type": "stream",
     "text": [
      "[25, 100.5, True, 'India']\n",
      "<class 'list'>\n"
     ]
    }
   ],
   "source": [
    "#list constructor\n",
    "\n",
    "list_x = list( (25, 100.50, True, \"India\") )\n",
    "print(list_x)\n",
    "print(type(list_x))"
   ]
  },
  {
   "cell_type": "code",
   "execution_count": 42,
   "id": "2dbcbd9f",
   "metadata": {},
   "outputs": [
    {
     "name": "stdout",
     "output_type": "stream",
     "text": [
      "Banana\n",
      "['Apple', 'Banana', 'Green Orange', 'Cherry', 'Mango']\n"
     ]
    }
   ],
   "source": [
    "fruit_list = [ \"Apple\", \"Banana\", \"Orange\", \"Cherry\", \"Mango\" ]\n",
    "#print(type(fruit_list))\n",
    "#print(fruit_list[10])\n",
    "print(fruit_list[-4])\n",
    "\n",
    "fruit_list[2] = \"Green Orange\"\n",
    "\n",
    "print(fruit_list)"
   ]
  },
  {
   "cell_type": "code",
   "execution_count": 43,
   "id": "7dfbb64d",
   "metadata": {},
   "outputs": [
    {
     "name": "stdout",
     "output_type": "stream",
     "text": [
      "['Apple', 'Banana', 'Orange', 'Cherry', 'Mango', 'Banana']\n"
     ]
    }
   ],
   "source": [
    "fruit_list = [ \"Apple\", \"Banana\", \"Orange\", \"Cherry\", \"Mango\", \"Banana\" ]\n",
    "print(fruit_list)"
   ]
  },
  {
   "cell_type": "markdown",
   "id": "c46ced7c",
   "metadata": {},
   "source": [
    "# Slicing\n"
   ]
  },
  {
   "cell_type": "code",
   "execution_count": 49,
   "id": "a96dfb83",
   "metadata": {},
   "outputs": [
    {
     "name": "stdout",
     "output_type": "stream",
     "text": [
      "['Banana', 'Orange', 'Cherry']\n",
      "['Banana', 'Orange', 'Cherry', 'Mango']\n",
      "['Apple', 'Banana', 'Orange', 'Cherry']\n",
      "['Apple', 'Banana', 'Orange']\n",
      "['Apple', 'Banana', 'Orange']\n"
     ]
    }
   ],
   "source": [
    "fruit_list = [ \"Apple\", \"Banana\", \"Orange\", \"Cherry\", \"Mango\" ]\n",
    "\n",
    "print(fruit_list[1:4])\n",
    "print(fruit_list[1:])\n",
    "print(fruit_list[:4])\n",
    "print(fruit_list[-5:-2])\n",
    "print(fruit_list[:-2])"
   ]
  },
  {
   "cell_type": "code",
   "execution_count": 50,
   "id": "edf923d2",
   "metadata": {},
   "outputs": [
    {
     "name": "stdout",
     "output_type": "stream",
     "text": [
      "5\n"
     ]
    }
   ],
   "source": [
    "print( len(fruit_list) )"
   ]
  },
  {
   "cell_type": "code",
   "execution_count": 53,
   "id": "263fd723",
   "metadata": {},
   "outputs": [
    {
     "name": "stdout",
     "output_type": "stream",
     "text": [
      "False\n"
     ]
    }
   ],
   "source": [
    "fruit_list = [ \"Apple\", \"Banana\", \"Orange\", \"Cherry\", \"Mango\" ]\n",
    "\n",
    "print( \"Grape\" in fruit_list )"
   ]
  },
  {
   "cell_type": "markdown",
   "id": "85e89d98",
   "metadata": {},
   "source": [
    "# Update, Add, Remove"
   ]
  },
  {
   "cell_type": "code",
   "execution_count": 54,
   "id": "c35a89bd",
   "metadata": {},
   "outputs": [
    {
     "name": "stdout",
     "output_type": "stream",
     "text": [
      "['Apple', 'Banana', 'Orange', 'Green Cherry', 'Mango']\n"
     ]
    }
   ],
   "source": [
    "fruit_list = [ \"Apple\", \"Banana\", \"Orange\", \"Cherry\", \"Mango\" ]\n",
    "\n",
    "fruit_list[3] =\"Green Cherry\"\n",
    "\n",
    "print(fruit_list)"
   ]
  },
  {
   "cell_type": "code",
   "execution_count": 55,
   "id": "96dfa239",
   "metadata": {},
   "outputs": [
    {
     "name": "stdout",
     "output_type": "stream",
     "text": [
      "['Apple', 'Banana', 'Orange', 'Green Cherry', 'Mango', 'Grapes']\n"
     ]
    }
   ],
   "source": [
    "fruit_list.append(\"Grapes\")\n",
    "\n",
    "print(fruit_list)"
   ]
  },
  {
   "cell_type": "code",
   "execution_count": 56,
   "id": "fc48cdc9",
   "metadata": {},
   "outputs": [
    {
     "name": "stdout",
     "output_type": "stream",
     "text": [
      "['Apple', 'Banana', 'Milon', 'Orange', 'Green Cherry', 'Mango', 'Grapes']\n"
     ]
    }
   ],
   "source": [
    "fruit_list.insert(2, \"Milon\")\n",
    "print(fruit_list)"
   ]
  },
  {
   "cell_type": "code",
   "execution_count": 57,
   "id": "613cd118",
   "metadata": {},
   "outputs": [
    {
     "name": "stdout",
     "output_type": "stream",
     "text": [
      "['Apple', 'Banana', 'Milon', 'Green Cherry', 'Mango', 'Grapes']\n"
     ]
    }
   ],
   "source": [
    "fruit_list.remove(\"Orange\")\n",
    "print(fruit_list)"
   ]
  },
  {
   "cell_type": "code",
   "execution_count": 58,
   "id": "dac37ebf",
   "metadata": {},
   "outputs": [
    {
     "name": "stdout",
     "output_type": "stream",
     "text": [
      "['Apple', 'Banana', 'Milon', 'Green Cherry', 'Mango']\n"
     ]
    }
   ],
   "source": [
    "fruit_list.pop()\n",
    "print(fruit_list)"
   ]
  },
  {
   "cell_type": "code",
   "execution_count": 59,
   "id": "4361f046",
   "metadata": {},
   "outputs": [
    {
     "name": "stdout",
     "output_type": "stream",
     "text": [
      "['Apple', 'Banana', 'Green Cherry', 'Mango']\n"
     ]
    }
   ],
   "source": [
    "fruit_list.pop(2)\n",
    "print(fruit_list)"
   ]
  },
  {
   "cell_type": "code",
   "execution_count": 60,
   "id": "aed3b151",
   "metadata": {},
   "outputs": [
    {
     "name": "stdout",
     "output_type": "stream",
     "text": [
      "Apple\n",
      "Banana\n",
      "Orange\n",
      "Cherry\n",
      "Mango\n"
     ]
    }
   ],
   "source": [
    "fruit_list = [ \"Apple\", \"Banana\", \"Orange\", \"Cherry\", \"Mango\" ]\n",
    "\n",
    "for x in fruit_list:\n",
    "    print(x)"
   ]
  },
  {
   "cell_type": "code",
   "execution_count": 61,
   "id": "c2335479",
   "metadata": {},
   "outputs": [
    {
     "name": "stdout",
     "output_type": "stream",
     "text": [
      "318\n"
     ]
    }
   ],
   "source": [
    "marks = [40, 60, 78, 60, 80]\n",
    "sum = 0 \n",
    "for x in marks:\n",
    "    sum = sum + x\n",
    "\n",
    "print(sum)\n"
   ]
  },
  {
   "cell_type": "code",
   "execution_count": 63,
   "id": "c53bd7d6",
   "metadata": {},
   "outputs": [
    {
     "name": "stdout",
     "output_type": "stream",
     "text": [
      "318\n"
     ]
    }
   ],
   "source": [
    "marks = [40, 60, 78, 60, 80]\n",
    "sum = 0 \n",
    "i = 0\n",
    "while i < len(marks):\n",
    "    sum = sum + marks[i]\n",
    "    i = i + 1\n",
    "\n",
    "print(sum)\n"
   ]
  },
  {
   "cell_type": "markdown",
   "id": "471e8052",
   "metadata": {},
   "source": [
    "# List Comprehension "
   ]
  },
  {
   "cell_type": "code",
   "execution_count": 64,
   "id": "1826d658",
   "metadata": {},
   "outputs": [
    {
     "name": "stdout",
     "output_type": "stream",
     "text": [
      "[40, 78, 60, 80, 90]\n"
     ]
    }
   ],
   "source": [
    "marks = [40, 63, 78, 60, 80, 57, 90]\n",
    "even_list = []\n",
    "\n",
    "for x in marks:\n",
    "    if x % 2 == 0 :\n",
    "        even_list.append(x)\n",
    "\n",
    "print(even_list)        "
   ]
  },
  {
   "cell_type": "code",
   "execution_count": 66,
   "id": "e3465969",
   "metadata": {},
   "outputs": [
    {
     "name": "stdout",
     "output_type": "stream",
     "text": [
      "[40, 78, 60, 80, 90]\n"
     ]
    }
   ],
   "source": [
    "marks = [40, 63, 78, 60, 80, 57, 90]\n",
    "even_list = [ x for x in marks if x%2 == 0 ]\n",
    "print(even_list)"
   ]
  },
  {
   "cell_type": "raw",
   "id": "4c6a987f",
   "metadata": {},
   "source": [
    "newlist = [ expression for item in iterable if condition == True ]\n"
   ]
  },
  {
   "cell_type": "code",
   "execution_count": 68,
   "id": "06c9904b",
   "metadata": {},
   "outputs": [
    {
     "name": "stdout",
     "output_type": "stream",
     "text": [
      "[100, 100, 100, 100, 100]\n"
     ]
    }
   ],
   "source": [
    "even_list = [ 100 for x in marks if x%2 == 0 ]\n",
    "print(even_list)"
   ]
  },
  {
   "cell_type": "code",
   "execution_count": 70,
   "id": "3bc61656",
   "metadata": {},
   "outputs": [
    {
     "name": "stdout",
     "output_type": "stream",
     "text": [
      "[40, 63, 78, 60, 80, 57, 90]\n"
     ]
    }
   ],
   "source": [
    "even_list = [ x for x in marks if True ]\n",
    "print(even_list)"
   ]
  },
  {
   "cell_type": "code",
   "execution_count": 73,
   "id": "f68bfe75",
   "metadata": {},
   "outputs": [
    {
     "name": "stdout",
     "output_type": "stream",
     "text": [
      "['Apple', 'Banana', 'Orange', 'Cherry', 'Mango', 'Apple', 'Banana', 'Orange', 'Cherry', 'Mango', 'Apple', 'Banana', 'Orange', 'Cherry', 'Mango', 'Apple', 'Banana', 'Orange', 'Cherry', 'Mango', 'Apple', 'Banana', 'Orange', 'Cherry', 'Mango', 'Apple', 'Banana', 'Orange', 'Cherry', 'Mango', 'Apple', 'Banana', 'Orange', 'Cherry', 'Mango', 'Apple', 'Banana', 'Orange', 'Cherry', 'Mango', 'Apple', 'Banana', 'Orange', 'Cherry', 'Mango', 'Apple', 'Banana', 'Orange', 'Cherry', 'Mango']\n"
     ]
    }
   ],
   "source": [
    "fruit_list = [ \"Apple\", \"Banana\", \"Orange\", \"Cherry\", \"Mango\" ]\n",
    "print(fruit_list*10)"
   ]
  },
  {
   "cell_type": "code",
   "execution_count": null,
   "id": "4c365efe",
   "metadata": {},
   "outputs": [],
   "source": []
  }
 ],
 "metadata": {
  "kernelspec": {
   "display_name": "Python 3 (ipykernel)",
   "language": "python",
   "name": "python3"
  },
  "language_info": {
   "codemirror_mode": {
    "name": "ipython",
    "version": 3
   },
   "file_extension": ".py",
   "mimetype": "text/x-python",
   "name": "python",
   "nbconvert_exporter": "python",
   "pygments_lexer": "ipython3",
   "version": "3.9.7"
  }
 },
 "nbformat": 4,
 "nbformat_minor": 5
}
