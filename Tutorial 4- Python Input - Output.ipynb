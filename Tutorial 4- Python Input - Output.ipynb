{
 "cells": [
  {
   "cell_type": "markdown",
   "id": "a6dfd852",
   "metadata": {},
   "source": [
    "# Tutorial 4- Python Input - Output"
   ]
  },
  {
   "cell_type": "markdown",
   "id": "6ba90455",
   "metadata": {},
   "source": [
    "###### print()\n",
    "###### input()\n"
   ]
  },
  {
   "cell_type": "code",
   "execution_count": null,
   "id": "cda0300d",
   "metadata": {},
   "outputs": [],
   "source": [
    "print(\"THis is an example of print\")"
   ]
  },
  {
   "cell_type": "code",
   "execution_count": null,
   "id": "1df0f345",
   "metadata": {},
   "outputs": [],
   "source": [
    "print(\"THis is an example of print\" ,  \" This is another example\", \" This is 3rd example\")"
   ]
  },
  {
   "cell_type": "code",
   "execution_count": null,
   "id": "e6193efc",
   "metadata": {},
   "outputs": [],
   "source": [
    "print(\"THis is an example of print\", end = ' ------ ')\n",
    "print(\"THis is an second example of print\")"
   ]
  },
  {
   "cell_type": "code",
   "execution_count": null,
   "id": "a76a7330",
   "metadata": {},
   "outputs": [],
   "source": [
    "name = \"Mike\" \n",
    "#print( \"Your name is \", name)\n",
    "#print( \"Your name is \" + name)\n",
    "age = 24\n",
    "#print( \"Your age is \" , age)\n",
    "print( \"Your age is \" + str(age) )"
   ]
  },
  {
   "cell_type": "code",
   "execution_count": null,
   "id": "2f7efadb",
   "metadata": {},
   "outputs": [],
   "source": [
    "print(f\"Your age is {age}\")"
   ]
  },
  {
   "cell_type": "code",
   "execution_count": null,
   "id": "e56f7ca4",
   "metadata": {},
   "outputs": [],
   "source": [
    "age = 24\n",
    "price = 50.50\n",
    "print(f\"Your age is {age} and price is {price}\")"
   ]
  },
  {
   "cell_type": "code",
   "execution_count": null,
   "id": "77cddc1f",
   "metadata": {},
   "outputs": [],
   "source": [
    "name = input(\"Enter your name\")\n",
    "print(name)"
   ]
  },
  {
   "cell_type": "code",
   "execution_count": 2,
   "id": "efa1d931",
   "metadata": {},
   "outputs": [
    {
     "name": "stdout",
     "output_type": "stream",
     "text": [
      "Enter value of a10\n",
      "Enter value of b100\n",
      "110\n"
     ]
    }
   ],
   "source": [
    "a = int(input(\"Enter value of a\"))\n",
    "b = int(input(\"Enter value of b\"))\n",
    "z = a + b\n",
    "print(z)"
   ]
  },
  {
   "cell_type": "code",
   "execution_count": null,
   "id": "1bac0478",
   "metadata": {},
   "outputs": [],
   "source": []
  },
  {
   "cell_type": "code",
   "execution_count": null,
   "id": "c951de2e",
   "metadata": {},
   "outputs": [],
   "source": []
  },
  {
   "cell_type": "code",
   "execution_count": null,
   "id": "67425dbf",
   "metadata": {},
   "outputs": [],
   "source": []
  }
 ],
 "metadata": {
  "kernelspec": {
   "display_name": "Python 3 (ipykernel)",
   "language": "python",
   "name": "python3"
  },
  "language_info": {
   "codemirror_mode": {
    "name": "ipython",
    "version": 3
   },
   "file_extension": ".py",
   "mimetype": "text/x-python",
   "name": "python",
   "nbconvert_exporter": "python",
   "pygments_lexer": "ipython3",
   "version": "3.9.7"
  }
 },
 "nbformat": 4,
 "nbformat_minor": 5
}
