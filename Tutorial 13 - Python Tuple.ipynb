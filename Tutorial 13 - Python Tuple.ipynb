{
 "cells": [
  {
   "cell_type": "markdown",
   "id": "e383b6bb",
   "metadata": {},
   "source": [
    "### Python Tuple"
   ]
  },
  {
   "cell_type": "markdown",
   "id": "02756b4d",
   "metadata": {},
   "source": [
    "Python tuple is ordered , unchangable and allow duplicate"
   ]
  },
  {
   "cell_type": "code",
   "execution_count": 2,
   "id": "3a08003a",
   "metadata": {},
   "outputs": [
    {
     "name": "stdout",
     "output_type": "stream",
     "text": [
      "('Mon', 'Tue', 'Wed', 'Thur', 'Fri')\n",
      "<class 'tuple'>\n"
     ]
    }
   ],
   "source": [
    "weekdays = ( \"Mon\" , \"Tue\" , \"Wed\", \"Thur\", \"Fri\" )\n",
    "\n",
    "print(weekdays)\n",
    "\n",
    "print( type(weekdays))\n"
   ]
  },
  {
   "cell_type": "code",
   "execution_count": 3,
   "id": "224b984f",
   "metadata": {},
   "outputs": [
    {
     "name": "stdout",
     "output_type": "stream",
     "text": [
      "('Mon', 'Tue', 'Wed', 'Thur', 'Fri')\n",
      "<class 'tuple'>\n"
     ]
    }
   ],
   "source": [
    "weekdays = tuple ( ( \"Mon\" , \"Tue\" , \"Wed\", \"Thur\", \"Fri\" ) )\n",
    "print(weekdays)\n",
    "\n",
    "print( type(weekdays))"
   ]
  },
  {
   "cell_type": "code",
   "execution_count": 7,
   "id": "0b3b7635",
   "metadata": {},
   "outputs": [
    {
     "name": "stdout",
     "output_type": "stream",
     "text": [
      "Fri\n"
     ]
    }
   ],
   "source": [
    "print(weekdays[4])"
   ]
  },
  {
   "cell_type": "code",
   "execution_count": 8,
   "id": "c11039b0",
   "metadata": {},
   "outputs": [
    {
     "name": "stdout",
     "output_type": "stream",
     "text": [
      "Thur\n"
     ]
    }
   ],
   "source": [
    "print(weekdays[-2])"
   ]
  },
  {
   "cell_type": "markdown",
   "id": "ded16d7e",
   "metadata": {},
   "source": [
    "# Slicing"
   ]
  },
  {
   "cell_type": "code",
   "execution_count": 9,
   "id": "53ae779f",
   "metadata": {},
   "outputs": [
    {
     "name": "stdout",
     "output_type": "stream",
     "text": [
      "('Wed', 'Thur')\n"
     ]
    }
   ],
   "source": [
    "print(weekdays[2:4])"
   ]
  },
  {
   "cell_type": "code",
   "execution_count": 10,
   "id": "5e0ed51b",
   "metadata": {},
   "outputs": [
    {
     "name": "stdout",
     "output_type": "stream",
     "text": [
      "('Wed', 'Thur', 'Fri')\n"
     ]
    }
   ],
   "source": [
    "print(weekdays[2:])"
   ]
  },
  {
   "cell_type": "code",
   "execution_count": 11,
   "id": "5300fafa",
   "metadata": {},
   "outputs": [
    {
     "name": "stdout",
     "output_type": "stream",
     "text": [
      "('Mon', 'Tue', 'Wed', 'Thur')\n"
     ]
    }
   ],
   "source": [
    "print(weekdays[:4])"
   ]
  },
  {
   "cell_type": "code",
   "execution_count": 12,
   "id": "71174174",
   "metadata": {},
   "outputs": [
    {
     "name": "stdout",
     "output_type": "stream",
     "text": [
      "5\n"
     ]
    }
   ],
   "source": [
    "print(len(weekdays))"
   ]
  },
  {
   "cell_type": "code",
   "execution_count": 16,
   "id": "341aac69",
   "metadata": {},
   "outputs": [
    {
     "name": "stdout",
     "output_type": "stream",
     "text": [
      "['Mon', 'Tue', 'Wed', 'Thur', 'Fri']\n",
      "['Mon', 'Tue', 'Wed', 'Thur', 'Fri', 'Sat']\n",
      "('Mon', 'Tue', 'Wed', 'Thur', 'Fri', 'Sat')\n"
     ]
    }
   ],
   "source": [
    "weekdays = ( \"Mon\" , \"Tue\" , \"Wed\", \"Thur\", \"Fri\" )\n",
    "\n",
    "w = list (weekdays)\n",
    "print(w)\n",
    "w.append('Sat')\n",
    "print(w)\n",
    "weekdays = tuple(w)\n",
    "print(weekdays)\n"
   ]
  },
  {
   "cell_type": "code",
   "execution_count": 18,
   "id": "17459c7b",
   "metadata": {},
   "outputs": [
    {
     "name": "stdout",
     "output_type": "stream",
     "text": [
      "Mon\n",
      "Thur\n"
     ]
    }
   ],
   "source": [
    "weekdays = ( \"Mon\" , \"Tue\" , \"Wed\", \"Thur\", \"Fri\" )\n",
    "\n",
    "(d1,d2, d3, d4, d5)  = weekdays\n",
    "\n",
    "print(d1)\n",
    "\n",
    "print(d4)\n",
    "\n"
   ]
  },
  {
   "cell_type": "code",
   "execution_count": 19,
   "id": "ea93627a",
   "metadata": {},
   "outputs": [
    {
     "name": "stdout",
     "output_type": "stream",
     "text": [
      "Mon\n",
      "Tue\n",
      "Wed\n",
      "Thur\n",
      "Fri\n"
     ]
    }
   ],
   "source": [
    "weekdays = ( \"Mon\" , \"Tue\" , \"Wed\", \"Thur\", \"Fri\" )\n",
    "\n",
    "for d in weekdays:\n",
    "    print(d)"
   ]
  },
  {
   "cell_type": "code",
   "execution_count": 21,
   "id": "d5b59bf4",
   "metadata": {},
   "outputs": [
    {
     "name": "stdout",
     "output_type": "stream",
     "text": [
      "Mon\n",
      "Tue\n",
      "Wed\n",
      "Thur\n",
      "Fri\n"
     ]
    }
   ],
   "source": [
    "i = 0 \n",
    "while i < len(weekdays):\n",
    "    print(weekdays[i])\n",
    "    i = i + 1"
   ]
  },
  {
   "cell_type": "code",
   "execution_count": 22,
   "id": "9bf5526c",
   "metadata": {},
   "outputs": [
    {
     "name": "stdout",
     "output_type": "stream",
     "text": [
      "PythonProgramming\n"
     ]
    }
   ],
   "source": [
    "x = 'Python'\n",
    "y = \"Programming\"\n",
    "\n",
    "z = x +  y \n",
    "\n",
    "print(z)"
   ]
  },
  {
   "cell_type": "code",
   "execution_count": 24,
   "id": "56d0160b",
   "metadata": {},
   "outputs": [
    {
     "name": "stdout",
     "output_type": "stream",
     "text": [
      "PythonPythonPythonPythonPythonPythonPythonPythonPythonPython\n"
     ]
    }
   ],
   "source": [
    "x = 'Python'\n",
    "print(x * 10)"
   ]
  },
  {
   "cell_type": "code",
   "execution_count": 26,
   "id": "4767198d",
   "metadata": {},
   "outputs": [
    {
     "name": "stdout",
     "output_type": "stream",
     "text": [
      "('Mon', 'Tue', 'Wed', 'Thur', 'Fri', 'Mon', 'Tue', 'Wed', 'Thur', 'Fri', 'Mon', 'Tue', 'Wed', 'Thur', 'Fri', 'Mon', 'Tue', 'Wed', 'Thur', 'Fri', 'Mon', 'Tue', 'Wed', 'Thur', 'Fri', 'Mon', 'Tue', 'Wed', 'Thur', 'Fri', 'Mon', 'Tue', 'Wed', 'Thur', 'Fri', 'Mon', 'Tue', 'Wed', 'Thur', 'Fri', 'Mon', 'Tue', 'Wed', 'Thur', 'Fri', 'Mon', 'Tue', 'Wed', 'Thur', 'Fri')\n"
     ]
    }
   ],
   "source": [
    "weekdays = ( \"Mon\" , \"Tue\" , \"Wed\", \"Thur\", \"Fri\" )\n",
    "\n",
    "print(weekdays*10)"
   ]
  },
  {
   "cell_type": "code",
   "execution_count": null,
   "id": "d91d2c3d",
   "metadata": {},
   "outputs": [],
   "source": []
  }
 ],
 "metadata": {
  "kernelspec": {
   "display_name": "Python 3 (ipykernel)",
   "language": "python",
   "name": "python3"
  },
  "language_info": {
   "codemirror_mode": {
    "name": "ipython",
    "version": 3
   },
   "file_extension": ".py",
   "mimetype": "text/x-python",
   "name": "python",
   "nbconvert_exporter": "python",
   "pygments_lexer": "ipython3",
   "version": "3.9.7"
  }
 },
 "nbformat": 4,
 "nbformat_minor": 5
}
