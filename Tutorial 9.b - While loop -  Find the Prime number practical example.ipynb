{
 "cells": [
  {
   "cell_type": "markdown",
   "id": "7217789c",
   "metadata": {},
   "source": [
    "# Tutorial 9.b - While loop -  Find the Prime number practical example\n"
   ]
  },
  {
   "cell_type": "raw",
   "id": "00f30e57",
   "metadata": {},
   "source": [
    "17 => 2 to 16\n",
    "15 => 2 to 14"
   ]
  },
  {
   "cell_type": "code",
   "execution_count": 10,
   "id": "158d2a35",
   "metadata": {},
   "outputs": [
    {
     "name": "stdout",
     "output_type": "stream",
     "text": [
      "Please enter any number9\n",
      "Number is not a prime\n"
     ]
    }
   ],
   "source": [
    "number = int(input(\"Please enter any number\"))\n",
    "\n",
    "i = 2\n",
    "flag = False\n",
    "\n",
    "while i < number:\n",
    "    \n",
    "    if number % i == 0 :\n",
    "        flag = True\n",
    "    i += 1\n",
    "\n",
    "if flag == True :\n",
    "    print(\"Number is not a prime\")\n",
    "else:\n",
    "    print(\"Number is a prime\")"
   ]
  },
  {
   "cell_type": "code",
   "execution_count": null,
   "id": "5b787afc",
   "metadata": {},
   "outputs": [],
   "source": []
  }
 ],
 "metadata": {
  "kernelspec": {
   "display_name": "Python 3 (ipykernel)",
   "language": "python",
   "name": "python3"
  },
  "language_info": {
   "codemirror_mode": {
    "name": "ipython",
    "version": 3
   },
   "file_extension": ".py",
   "mimetype": "text/x-python",
   "name": "python",
   "nbconvert_exporter": "python",
   "pygments_lexer": "ipython3",
   "version": "3.9.7"
  }
 },
 "nbformat": 4,
 "nbformat_minor": 5
}
