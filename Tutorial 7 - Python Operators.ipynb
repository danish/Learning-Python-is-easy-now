{
 "cells": [
  {
   "cell_type": "markdown",
   "id": "84ad7212",
   "metadata": {},
   "source": [
    "# Tutorial 7 - Python Operators"
   ]
  },
  {
   "cell_type": "raw",
   "id": "a9a5531a",
   "metadata": {},
   "source": [
    "Arithmetic operators ( +, - , *, /, %, **, // )\n",
    "Comparison operators ( == , !=, >, >= , <, <= )\n",
    "Logical operators ( and , or, not )\n",
    "Bitwise operators \n",
    "Assignment operators ( = , +=, -=, *=, /=, %=, **=, //= )\n",
    "Identity operators ( is , is not )\n",
    "Membership operators ( in, not in )\n"
   ]
  },
  {
   "cell_type": "raw",
   "id": "cbae8e9f",
   "metadata": {},
   "source": [
    "# Arithmetic operators ( +, - , * , /, %, **, // )"
   ]
  },
  {
   "cell_type": "code",
   "execution_count": 28,
   "id": "dd48171e",
   "metadata": {},
   "outputs": [
    {
     "name": "stdout",
     "output_type": "stream",
     "text": [
      "3\n",
      "<class 'int'>\n"
     ]
    }
   ],
   "source": [
    "x = 10\n",
    "y = 3\n",
    "#z = x ** y\n",
    "\n",
    "z = x // y\n",
    "\n",
    "print(z)\n",
    "print(type(z))"
   ]
  },
  {
   "cell_type": "markdown",
   "id": "2869108f",
   "metadata": {},
   "source": [
    "# Comparison operators ( == , !=, >, >= , <, <= )"
   ]
  },
  {
   "cell_type": "code",
   "execution_count": 29,
   "id": "2e1df52b",
   "metadata": {},
   "outputs": [
    {
     "name": "stdout",
     "output_type": "stream",
     "text": [
      "False\n"
     ]
    }
   ],
   "source": [
    "# == \n",
    "\n",
    "x = 10\n",
    "y = 5\n",
    "\n",
    "print( x == y )"
   ]
  },
  {
   "cell_type": "code",
   "execution_count": 31,
   "id": "36796a96",
   "metadata": {},
   "outputs": [
    {
     "name": "stdout",
     "output_type": "stream",
     "text": [
      "False\n"
     ]
    }
   ],
   "source": [
    "# == \n",
    "\n",
    "x = 10\n",
    "y = \"10\"\n",
    "\n",
    "print( x == y )"
   ]
  },
  {
   "cell_type": "code",
   "execution_count": 32,
   "id": "1bc217da",
   "metadata": {},
   "outputs": [
    {
     "name": "stdout",
     "output_type": "stream",
     "text": [
      "True\n"
     ]
    }
   ],
   "source": [
    "# !=\n",
    "x = 10\n",
    "y = 5\n",
    "\n",
    "print( x != y )\n"
   ]
  },
  {
   "cell_type": "code",
   "execution_count": 37,
   "id": "e6cb8aec",
   "metadata": {},
   "outputs": [
    {
     "name": "stdout",
     "output_type": "stream",
     "text": [
      "True\n"
     ]
    }
   ],
   "source": [
    "#>\n",
    "x = 25\n",
    "y = 15\n",
    "\n",
    "#print( x > y )\n",
    "\n",
    "# >=\n",
    "print( x >= y )\n"
   ]
  },
  {
   "cell_type": "code",
   "execution_count": 38,
   "id": "76cec879",
   "metadata": {},
   "outputs": [],
   "source": [
    "# < , <="
   ]
  },
  {
   "cell_type": "markdown",
   "id": "3f14f695",
   "metadata": {},
   "source": [
    "# Logical operators ( and , or, not )"
   ]
  },
  {
   "cell_type": "code",
   "execution_count": 42,
   "id": "40d8ff8d",
   "metadata": {},
   "outputs": [
    {
     "name": "stdout",
     "output_type": "stream",
     "text": [
      "False\n"
     ]
    }
   ],
   "source": [
    "#and\n",
    "# exp and epx\n",
    "#if both exp are true then result will be true\n",
    "#print(  True and True )\n",
    "print(  False and False )"
   ]
  },
  {
   "cell_type": "code",
   "execution_count": 47,
   "id": "87a40bff",
   "metadata": {},
   "outputs": [
    {
     "name": "stdout",
     "output_type": "stream",
     "text": [
      "True\n"
     ]
    }
   ],
   "source": [
    "x = 100\n",
    "y = 200\n",
    "\n",
    "a = 5\n",
    "b=  10\n",
    "\n",
    "str = 'India'\n",
    "\n",
    "#print( x < y and a < b )\n",
    "#print( x < y and a > b )\n",
    "\n",
    "#print( x > y and a < b )\n",
    "\n",
    "print( str == 'India' and a < b )\n"
   ]
  },
  {
   "cell_type": "code",
   "execution_count": 51,
   "id": "f4c1191c",
   "metadata": {},
   "outputs": [
    {
     "name": "stdout",
     "output_type": "stream",
     "text": [
      "True\n",
      "True\n"
     ]
    }
   ],
   "source": [
    "#or \n",
    "#if any one condition is true, final result will be True\n",
    "\n",
    "#print( False or False )\n",
    "print( True or False )\n",
    "print( True or True )"
   ]
  },
  {
   "cell_type": "code",
   "execution_count": 52,
   "id": "e8293d9e",
   "metadata": {},
   "outputs": [
    {
     "name": "stdout",
     "output_type": "stream",
     "text": [
      "True\n"
     ]
    }
   ],
   "source": [
    "x = 10\n",
    "y = 20\n",
    "\n",
    "a = 10\n",
    "\n",
    "print(  x > y or a %2 == 0 )"
   ]
  },
  {
   "cell_type": "code",
   "execution_count": 53,
   "id": "22458310",
   "metadata": {},
   "outputs": [
    {
     "name": "stdout",
     "output_type": "stream",
     "text": [
      "False\n"
     ]
    }
   ],
   "source": [
    "print(  x > y or a %2 == 1 )"
   ]
  },
  {
   "cell_type": "code",
   "execution_count": 54,
   "id": "86838217",
   "metadata": {},
   "outputs": [
    {
     "name": "stdout",
     "output_type": "stream",
     "text": [
      "True\n"
     ]
    }
   ],
   "source": [
    "print(  x < y or a %2 == 0 )"
   ]
  },
  {
   "cell_type": "code",
   "execution_count": 58,
   "id": "1760edfa",
   "metadata": {},
   "outputs": [
    {
     "name": "stdout",
     "output_type": "stream",
     "text": [
      "True\n"
     ]
    }
   ],
   "source": [
    "#not\n",
    "\n",
    "#print( not True )\n",
    "print( not False )"
   ]
  },
  {
   "cell_type": "code",
   "execution_count": 60,
   "id": "4bef831b",
   "metadata": {},
   "outputs": [
    {
     "name": "stdout",
     "output_type": "stream",
     "text": [
      "False\n"
     ]
    }
   ],
   "source": [
    "x = 10\n",
    "y = 20\n",
    "\n",
    "print( not(x < y) )"
   ]
  },
  {
   "cell_type": "markdown",
   "id": "2929832d",
   "metadata": {},
   "source": [
    "# Assignment operators ( = , +=, -=, *=, /=, %=, **=, //= )"
   ]
  },
  {
   "cell_type": "code",
   "execution_count": 61,
   "id": "db9cbba4",
   "metadata": {},
   "outputs": [
    {
     "name": "stdout",
     "output_type": "stream",
     "text": [
      "30\n"
     ]
    }
   ],
   "source": [
    "x = 10\n",
    "#   +=\n",
    "\n",
    "x += 20  # x = x + 20\n",
    "\n",
    "print(x)"
   ]
  },
  {
   "cell_type": "code",
   "execution_count": 62,
   "id": "e34213de",
   "metadata": {},
   "outputs": [
    {
     "name": "stdout",
     "output_type": "stream",
     "text": [
      "15\n"
     ]
    }
   ],
   "source": [
    "x = 10\n",
    "y = 5\n",
    "\n",
    "x += y  # x = x + y\n",
    "\n",
    "print(x)"
   ]
  },
  {
   "cell_type": "markdown",
   "id": "eefe040c",
   "metadata": {},
   "source": [
    "# Identity operators ( is , is not )"
   ]
  },
  {
   "cell_type": "code",
   "execution_count": 69,
   "id": "f7de9604",
   "metadata": {},
   "outputs": [
    {
     "name": "stdout",
     "output_type": "stream",
     "text": [
      "2562625333840\n",
      "2562625333680\n",
      "False\n"
     ]
    }
   ],
   "source": [
    "x = 10\n",
    "y = 5\n",
    "\n",
    "print( id(x) )\n",
    "print( id(y) )\n",
    "\n",
    "# is \n",
    "\n",
    "print( x is y)"
   ]
  },
  {
   "cell_type": "code",
   "execution_count": 70,
   "id": "f1820974",
   "metadata": {},
   "outputs": [
    {
     "name": "stdout",
     "output_type": "stream",
     "text": [
      "True\n"
     ]
    }
   ],
   "source": [
    "print( x is not y)"
   ]
  },
  {
   "cell_type": "markdown",
   "id": "4be53c86",
   "metadata": {},
   "source": [
    "# Membership operators ( in, not in )"
   ]
  },
  {
   "cell_type": "code",
   "execution_count": 73,
   "id": "12a7d942",
   "metadata": {},
   "outputs": [
    {
     "name": "stdout",
     "output_type": "stream",
     "text": [
      "True\n",
      "True\n"
     ]
    }
   ],
   "source": [
    "#in\n",
    "\n",
    "str = \"Python is an easy langauge\"\n",
    "\n",
    "print ( \"easy\" in str)\n",
    "\n",
    "list = [ 'apple', 'banana', 'orange']\n",
    "\n",
    "print( 'banana' in list)"
   ]
  },
  {
   "cell_type": "code",
   "execution_count": null,
   "id": "e1846f0b",
   "metadata": {},
   "outputs": [],
   "source": []
  }
 ],
 "metadata": {
  "kernelspec": {
   "display_name": "Python 3 (ipykernel)",
   "language": "python",
   "name": "python3"
  },
  "language_info": {
   "codemirror_mode": {
    "name": "ipython",
    "version": 3
   },
   "file_extension": ".py",
   "mimetype": "text/x-python",
   "name": "python",
   "nbconvert_exporter": "python",
   "pygments_lexer": "ipython3",
   "version": "3.9.7"
  }
 },
 "nbformat": 4,
 "nbformat_minor": 5
}
