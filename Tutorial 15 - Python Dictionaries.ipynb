{
 "cells": [
  {
   "cell_type": "markdown",
   "id": "cd937fb4",
   "metadata": {},
   "source": [
    "# Python Dictionaries"
   ]
  },
  {
   "cell_type": "code",
   "execution_count": 2,
   "id": "923bbb45",
   "metadata": {},
   "outputs": [
    {
     "name": "stdout",
     "output_type": "stream",
     "text": [
      "{'name': 'Rohan', 'age': 25, 'city': 'New Delhi'}\n",
      "<class 'dict'>\n"
     ]
    }
   ],
   "source": [
    "person =  { \"name\" : \"Rohan\", 'age' : 25, 'city': 'New Delhi'}\n",
    "print(person)\n",
    "print(type(person))\n"
   ]
  },
  {
   "cell_type": "code",
   "execution_count": 4,
   "id": "15c2c03a",
   "metadata": {},
   "outputs": [
    {
     "name": "stdout",
     "output_type": "stream",
     "text": [
      "{'name': 'Rohan', 'age': 25, 'city': 'New Delhi'}\n",
      "<class 'dict'>\n"
     ]
    }
   ],
   "source": [
    "person =  { \"name\" : \"Rohan\", 'age' : 25, 'city': 'New Delhi'}\n",
    "print(person)\n",
    "print(type(person))\n"
   ]
  },
  {
   "cell_type": "code",
   "execution_count": 6,
   "id": "55b0f231",
   "metadata": {},
   "outputs": [
    {
     "name": "stdout",
     "output_type": "stream",
     "text": [
      "Rohan\n",
      "25\n"
     ]
    }
   ],
   "source": [
    "print(person['name'])\n",
    "print(person['age'])"
   ]
  },
  {
   "cell_type": "code",
   "execution_count": 7,
   "id": "71d852f9",
   "metadata": {},
   "outputs": [
    {
     "name": "stdout",
     "output_type": "stream",
     "text": [
      "New Delhi\n"
     ]
    }
   ],
   "source": [
    "print(person.get('city'))"
   ]
  },
  {
   "cell_type": "code",
   "execution_count": 8,
   "id": "28aaddc4",
   "metadata": {},
   "outputs": [
    {
     "name": "stdout",
     "output_type": "stream",
     "text": [
      "{'name': 'Rohan', 'age': 25, 'city': 'New Delhi'}\n"
     ]
    }
   ],
   "source": [
    "person = dict( { \"name\" : \"Rohan\", 'age' : 25, 'city': 'New Delhi'} )\n",
    "print(person)"
   ]
  },
  {
   "cell_type": "code",
   "execution_count": 10,
   "id": "fda36785",
   "metadata": {},
   "outputs": [
    {
     "name": "stdout",
     "output_type": "stream",
     "text": [
      "True\n",
      "False\n"
     ]
    }
   ],
   "source": [
    "print( \"name\" in person) \n",
    "print( \"bd\" in person) \n"
   ]
  },
  {
   "cell_type": "code",
   "execution_count": 11,
   "id": "040bbb46",
   "metadata": {},
   "outputs": [
    {
     "name": "stdout",
     "output_type": "stream",
     "text": [
      "dict_keys(['name', 'age', 'city'])\n"
     ]
    }
   ],
   "source": [
    "keys = person.keys()\n",
    "print(keys)"
   ]
  },
  {
   "cell_type": "code",
   "execution_count": 12,
   "id": "8bcbde74",
   "metadata": {},
   "outputs": [
    {
     "name": "stdout",
     "output_type": "stream",
     "text": [
      "dict_values(['Rohan', 25, 'New Delhi'])\n"
     ]
    }
   ],
   "source": [
    "val = person.values()\n",
    "print(val)"
   ]
  },
  {
   "cell_type": "code",
   "execution_count": 13,
   "id": "89f59540",
   "metadata": {},
   "outputs": [
    {
     "name": "stdout",
     "output_type": "stream",
     "text": [
      "dict_items([('name', 'Rohan'), ('age', 25), ('city', 'New Delhi')])\n"
     ]
    }
   ],
   "source": [
    "person =  { \"name\" : \"Rohan\", 'age' : 25, 'city': 'New Delhi'}\n",
    "print(person.items())"
   ]
  },
  {
   "cell_type": "code",
   "execution_count": 14,
   "id": "c5d91143",
   "metadata": {},
   "outputs": [
    {
     "name": "stdout",
     "output_type": "stream",
     "text": [
      "{'name': 'Rohan', 'age': 30, 'city': 'New Delhi'}\n"
     ]
    }
   ],
   "source": [
    "person =  { \"name\" : \"Rohan\", 'age' : 25, 'city': 'New Delhi'}\n",
    "person['age'] = 30\n",
    "\n",
    "print(person)\n"
   ]
  },
  {
   "cell_type": "code",
   "execution_count": 15,
   "id": "b5138a10",
   "metadata": {},
   "outputs": [
    {
     "name": "stdout",
     "output_type": "stream",
     "text": [
      "{'name': 'Rohan', 'age': 30, 'city': 'New Delhi', 'country': 'India'}\n"
     ]
    }
   ],
   "source": [
    "person['country'] = 'India'\n",
    "print(person)"
   ]
  },
  {
   "cell_type": "code",
   "execution_count": 16,
   "id": "a8632dd2",
   "metadata": {},
   "outputs": [
    {
     "name": "stdout",
     "output_type": "stream",
     "text": [
      "{'name': 'Rohan', 'city': 'New Delhi', 'country': 'India'}\n"
     ]
    }
   ],
   "source": [
    "person.pop('age')\n",
    "print(person)"
   ]
  },
  {
   "cell_type": "code",
   "execution_count": 17,
   "id": "3cce7877",
   "metadata": {},
   "outputs": [
    {
     "name": "stdout",
     "output_type": "stream",
     "text": [
      "name\n",
      "age\n",
      "city\n"
     ]
    }
   ],
   "source": [
    "person =  { \"name\" : \"Rohan\", 'age' : 25, 'city': 'New Delhi'}\n",
    "\n",
    "for x in person:\n",
    "    print(x)"
   ]
  },
  {
   "cell_type": "code",
   "execution_count": 18,
   "id": "88a3b92b",
   "metadata": {},
   "outputs": [
    {
     "name": "stdout",
     "output_type": "stream",
     "text": [
      "Rohan\n",
      "25\n",
      "New Delhi\n"
     ]
    }
   ],
   "source": [
    "for x in person:\n",
    "    print(person[x])"
   ]
  },
  {
   "cell_type": "code",
   "execution_count": 19,
   "id": "97020e32",
   "metadata": {},
   "outputs": [
    {
     "name": "stdout",
     "output_type": "stream",
     "text": [
      "Rohan\n",
      "25\n",
      "New Delhi\n"
     ]
    }
   ],
   "source": [
    "for x in person.keys():\n",
    "    print(person[x])"
   ]
  },
  {
   "cell_type": "code",
   "execution_count": 20,
   "id": "0f2e4589",
   "metadata": {},
   "outputs": [
    {
     "name": "stdout",
     "output_type": "stream",
     "text": [
      "Rohan\n",
      "25\n",
      "New Delhi\n"
     ]
    }
   ],
   "source": [
    "for x in person.values():\n",
    "    print(x)"
   ]
  },
  {
   "cell_type": "code",
   "execution_count": 21,
   "id": "916f9c90",
   "metadata": {},
   "outputs": [
    {
     "name": "stdout",
     "output_type": "stream",
     "text": [
      "('name', 'Rohan')\n",
      "('age', 25)\n",
      "('city', 'New Delhi')\n"
     ]
    }
   ],
   "source": [
    "for x in person.items():\n",
    "    print(x)"
   ]
  },
  {
   "cell_type": "code",
   "execution_count": 22,
   "id": "4a3f374f",
   "metadata": {},
   "outputs": [
    {
     "name": "stdout",
     "output_type": "stream",
     "text": [
      "name Rohan\n",
      "age 25\n",
      "city New Delhi\n"
     ]
    }
   ],
   "source": [
    "for x in person.items():\n",
    "    print(x[0], x[1])"
   ]
  },
  {
   "cell_type": "code",
   "execution_count": 23,
   "id": "e8234833",
   "metadata": {},
   "outputs": [
    {
     "name": "stdout",
     "output_type": "stream",
     "text": [
      "name Rohan\n",
      "age 25\n",
      "city New Delhi\n"
     ]
    }
   ],
   "source": [
    "for x in person.items():\n",
    "    (a , b)  = x\n",
    "    print(a, b)"
   ]
  },
  {
   "cell_type": "code",
   "execution_count": 24,
   "id": "641c9a24",
   "metadata": {},
   "outputs": [
    {
     "name": "stdout",
     "output_type": "stream",
     "text": [
      "name Rohan\n",
      "age 25\n",
      "city New Delhi\n"
     ]
    }
   ],
   "source": [
    "for (a,b) in person.items():\n",
    "    print(a, b)"
   ]
  },
  {
   "cell_type": "code",
   "execution_count": null,
   "id": "1d413881",
   "metadata": {},
   "outputs": [],
   "source": []
  }
 ],
 "metadata": {
  "kernelspec": {
   "display_name": "Python 3 (ipykernel)",
   "language": "python",
   "name": "python3"
  },
  "language_info": {
   "codemirror_mode": {
    "name": "ipython",
    "version": 3
   },
   "file_extension": ".py",
   "mimetype": "text/x-python",
   "name": "python",
   "nbconvert_exporter": "python",
   "pygments_lexer": "ipython3",
   "version": "3.9.7"
  }
 },
 "nbformat": 4,
 "nbformat_minor": 5
}
