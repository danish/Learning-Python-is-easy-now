{
 "cells": [
  {
   "cell_type": "markdown",
   "id": "22bcbcc4",
   "metadata": {},
   "source": [
    "### Find the max number in any given list"
   ]
  },
  {
   "cell_type": "raw",
   "id": "98afe8c8",
   "metadata": {},
   "source": [
    "max_number = 90\n",
    "\n",
    "x = 85"
   ]
  },
  {
   "cell_type": "code",
   "execution_count": 7,
   "id": "c54849b7",
   "metadata": {},
   "outputs": [
    {
     "name": "stdout",
     "output_type": "stream",
     "text": [
      "90\n"
     ]
    }
   ],
   "source": [
    "all_numbers = [56, 78, 17, 90, 8, 85]\n",
    "\n",
    "max_number = all_numbers[0]\n",
    "\n",
    "for x in all_numbers:\n",
    "    if x > max_number:\n",
    "        max_number = x\n",
    "\n",
    "print(max_number)"
   ]
  },
  {
   "cell_type": "raw",
   "id": "76408d43",
   "metadata": {},
   "source": [
    "min_number = 8\n",
    "x = 8"
   ]
  },
  {
   "cell_type": "code",
   "execution_count": 8,
   "id": "dbbc82ba",
   "metadata": {},
   "outputs": [
    {
     "name": "stdout",
     "output_type": "stream",
     "text": [
      "8\n"
     ]
    }
   ],
   "source": [
    "all_numbers = [56, 78, 17, 90, 8, 85]\n",
    "\n",
    "min_number = all_numbers[0]\n",
    "\n",
    "for x in all_numbers:\n",
    "    if x < min_number:\n",
    "        min_number = x\n",
    "\n",
    "print(min_number)"
   ]
  },
  {
   "cell_type": "code",
   "execution_count": null,
   "id": "060673f9",
   "metadata": {},
   "outputs": [],
   "source": []
  }
 ],
 "metadata": {
  "kernelspec": {
   "display_name": "Python 3 (ipykernel)",
   "language": "python",
   "name": "python3"
  },
  "language_info": {
   "codemirror_mode": {
    "name": "ipython",
    "version": 3
   },
   "file_extension": ".py",
   "mimetype": "text/x-python",
   "name": "python",
   "nbconvert_exporter": "python",
   "pygments_lexer": "ipython3",
   "version": "3.9.7"
  }
 },
 "nbformat": 4,
 "nbformat_minor": 5
}
