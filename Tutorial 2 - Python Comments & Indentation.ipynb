{
 "cells": [
  {
   "cell_type": "markdown",
   "id": "bc5e5e10",
   "metadata": {},
   "source": [
    "# Python Comments & Indentation\n"
   ]
  },
  {
   "cell_type": "code",
   "execution_count": 12,
   "id": "490beb9d",
   "metadata": {},
   "outputs": [
    {
     "name": "stdout",
     "output_type": "stream",
     "text": [
      "You are in India\n"
     ]
    }
   ],
   "source": [
    "'''\n",
    "this is simple code to check comment in Python\n",
    "print(\"Welcome\")\n",
    "print(\"Hello\")\n",
    "'''\n",
    "print(\"You are in India\")"
   ]
  },
  {
   "cell_type": "code",
   "execution_count": 15,
   "id": "5e927e08",
   "metadata": {},
   "outputs": [
    {
     "name": "stdout",
     "output_type": "stream",
     "text": [
      "300\n"
     ]
    }
   ],
   "source": [
    "x = 100\n",
    "y = 200\n",
    "z = x + y\n",
    "print(z)"
   ]
  },
  {
   "cell_type": "code",
   "execution_count": null,
   "id": "ee712c6f",
   "metadata": {},
   "outputs": [],
   "source": []
  }
 ],
 "metadata": {
  "kernelspec": {
   "display_name": "Python 3 (ipykernel)",
   "language": "python",
   "name": "python3"
  },
  "language_info": {
   "codemirror_mode": {
    "name": "ipython",
    "version": 3
   },
   "file_extension": ".py",
   "mimetype": "text/x-python",
   "name": "python",
   "nbconvert_exporter": "python",
   "pygments_lexer": "ipython3",
   "version": "3.9.7"
  }
 },
 "nbformat": 4,
 "nbformat_minor": 5
}
