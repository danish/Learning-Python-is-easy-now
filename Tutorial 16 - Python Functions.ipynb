{
 "cells": [
  {
   "cell_type": "code",
   "execution_count": 9,
   "id": "4c83a92d",
   "metadata": {},
   "outputs": [
    {
     "name": "stdout",
     "output_type": "stream",
     "text": [
      "Hello World!\n",
      "Welcome to the Python programming\n",
      "Hello World!\n",
      "Welcome to the Python programming\n",
      "Hello World!\n",
      "Welcome to the Python programming\n"
     ]
    }
   ],
   "source": [
    "def print_message():\n",
    "    print(\"Hello World!\")\n",
    "    print(\"Welcome to the Python programming\")\n",
    "\n",
    "print_message()\n",
    "\n",
    "print_message()\n",
    "\n",
    "print_message()\n"
   ]
  },
  {
   "cell_type": "code",
   "execution_count": 11,
   "id": "28848e74",
   "metadata": {},
   "outputs": [
    {
     "name": "stdout",
     "output_type": "stream",
     "text": [
      "C= 30\n"
     ]
    }
   ],
   "source": [
    "def add():\n",
    "    a = 10\n",
    "    b = 20\n",
    "    c = a + b\n",
    "    print(\"C=\", c)\n",
    "\n",
    "add()    "
   ]
  },
  {
   "cell_type": "code",
   "execution_count": 16,
   "id": "3a26cf74",
   "metadata": {},
   "outputs": [
    {
     "name": "stdout",
     "output_type": "stream",
     "text": [
      "C= 50\n",
      "C= 80\n"
     ]
    },
    {
     "ename": "TypeError",
     "evalue": "add() takes 2 positional arguments but 3 were given",
     "output_type": "error",
     "traceback": [
      "\u001b[1;31m---------------------------------------------------------------------------\u001b[0m",
      "\u001b[1;31mTypeError\u001b[0m                                 Traceback (most recent call last)",
      "\u001b[1;32m~\\AppData\\Local\\Temp/ipykernel_9320/1040048954.py\u001b[0m in \u001b[0;36m<module>\u001b[1;34m\u001b[0m\n\u001b[0;32m      7\u001b[0m \u001b[0madd\u001b[0m\u001b[1;33m(\u001b[0m\u001b[1;36m20\u001b[0m\u001b[1;33m,\u001b[0m \u001b[1;36m60\u001b[0m\u001b[1;33m)\u001b[0m\u001b[1;33m\u001b[0m\u001b[1;33m\u001b[0m\u001b[0m\n\u001b[0;32m      8\u001b[0m \u001b[1;33m\u001b[0m\u001b[0m\n\u001b[1;32m----> 9\u001b[1;33m \u001b[0madd\u001b[0m\u001b[1;33m(\u001b[0m\u001b[1;36m10\u001b[0m\u001b[1;33m,\u001b[0m \u001b[1;36m30\u001b[0m\u001b[1;33m,\u001b[0m \u001b[1;36m80\u001b[0m\u001b[1;33m)\u001b[0m\u001b[1;33m\u001b[0m\u001b[1;33m\u001b[0m\u001b[0m\n\u001b[0m",
      "\u001b[1;31mTypeError\u001b[0m: add() takes 2 positional arguments but 3 were given"
     ]
    }
   ],
   "source": [
    "def add( a, b ):\n",
    "    c = a + b\n",
    "    print(\"C=\", c)\n",
    "\n",
    "add(10, 40)\n",
    "\n",
    "add(20, 60)\n",
    "\n",
    "add(10, 30, 80)"
   ]
  },
  {
   "cell_type": "code",
   "execution_count": 21,
   "id": "ed7c8686",
   "metadata": {},
   "outputs": [
    {
     "name": "stdout",
     "output_type": "stream",
     "text": [
      "17\n",
      "India\n",
      "[234, 234, 324, 234]\n"
     ]
    }
   ],
   "source": [
    "def my_function(x):\n",
    "    print(x)\n",
    "    \n",
    "my_function(17) \n",
    "my_function(\"India\") \n",
    "my_function([234,234,324,234]) \n",
    "    "
   ]
  },
  {
   "cell_type": "code",
   "execution_count": 26,
   "id": "c4d8a890",
   "metadata": {},
   "outputs": [
    {
     "name": "stdout",
     "output_type": "stream",
     "text": [
      "50\n"
     ]
    }
   ],
   "source": [
    "def add( a, b ):\n",
    "    c = a + b\n",
    "    return c\n",
    "\n",
    "x = add(10, 40)\n",
    "print(x)"
   ]
  },
  {
   "cell_type": "code",
   "execution_count": 31,
   "id": "11c0f036",
   "metadata": {},
   "outputs": [
    {
     "name": "stdout",
     "output_type": "stream",
     "text": [
      "a= 10\n",
      "b= 100\n",
      "110\n"
     ]
    }
   ],
   "source": [
    "#defualt Arguments\n",
    "def add( a, b ):\n",
    "    print(\"a=\",a)\n",
    "    print(\"b=\",b)\n",
    "    c = a + b\n",
    "    return c\n",
    "\n",
    "x = add(10, 20)\n",
    "\n",
    "print(x)"
   ]
  },
  {
   "cell_type": "code",
   "execution_count": 35,
   "id": "33d8a662",
   "metadata": {},
   "outputs": [
    {
     "name": "stdout",
     "output_type": "stream",
     "text": [
      "a= 10\n",
      "b= 50\n",
      "c= 100\n",
      "160\n"
     ]
    }
   ],
   "source": [
    "#defualt Arguments\n",
    "def add( a, b = 50, c = 100 ):\n",
    "    print(\"a=\",a)\n",
    "    print(\"b=\",b)\n",
    "    print(\"c=\",c)\n",
    "    z = a + b + c\n",
    "    return z\n",
    "\n",
    "#x = add(10, 20)\n",
    "x = add(10)\n",
    "\n",
    "print(x)"
   ]
  },
  {
   "cell_type": "code",
   "execution_count": 36,
   "id": "adf5447e",
   "metadata": {},
   "outputs": [
    {
     "ename": "SyntaxError",
     "evalue": "non-default argument follows default argument (Temp/ipykernel_9320/1710562503.py, line 2)",
     "output_type": "error",
     "traceback": [
      "\u001b[1;36m  File \u001b[1;32m\"C:\\Users\\Danish\\AppData\\Local\\Temp/ipykernel_9320/1710562503.py\"\u001b[1;36m, line \u001b[1;32m2\u001b[0m\n\u001b[1;33m    def add( a = 100, b , c ):\u001b[0m\n\u001b[1;37m                          ^\u001b[0m\n\u001b[1;31mSyntaxError\u001b[0m\u001b[1;31m:\u001b[0m non-default argument follows default argument\n"
     ]
    }
   ],
   "source": [
    "#defualt Arguments\n",
    "def add( a = 100, b , c ):\n",
    "    print(\"a=\",a)\n",
    "    print(\"b=\",b)\n",
    "    print(\"c=\",c)\n",
    "    z = a + b + c\n",
    "    return z\n",
    "\n",
    "#x = add(10, 20)\n",
    "x = add(10)"
   ]
  },
  {
   "cell_type": "code",
   "execution_count": 37,
   "id": "031be9f9",
   "metadata": {},
   "outputs": [],
   "source": [
    "def test_fun():\n",
    "    pass"
   ]
  },
  {
   "cell_type": "code",
   "execution_count": 38,
   "id": "3debd00b",
   "metadata": {},
   "outputs": [
    {
     "name": "stdout",
     "output_type": "stream",
     "text": [
      "a= 30\n",
      "b= 20\n",
      "c= 10\n",
      "60\n"
     ]
    }
   ],
   "source": [
    "#Keyword  Arguments\n",
    "def add( a, b = 50, c = 100 ):\n",
    "    print(\"a=\",a)\n",
    "    print(\"b=\",b)\n",
    "    print(\"c=\",c)\n",
    "    z = a + b + c\n",
    "    return z\n",
    "\n",
    "#x = add(10, 20)\n",
    "x = add( c = 10, b= 20, a = 30 )\n",
    "\n",
    "print(x)"
   ]
  },
  {
   "cell_type": "code",
   "execution_count": 42,
   "id": "1bb993e0",
   "metadata": {},
   "outputs": [
    {
     "name": "stdout",
     "output_type": "stream",
     "text": [
      "(10, 20)\n",
      "10\n",
      "20\n"
     ]
    }
   ],
   "source": [
    "#Arbitrary Arguments, *args\n",
    "\n",
    "def my_func( *args ):\n",
    "    print(args)\n",
    "    print(args[0])\n",
    "    print(args[1])\n",
    "    \n",
    "my_func(10, 20)    \n",
    "    "
   ]
  },
  {
   "cell_type": "code",
   "execution_count": 46,
   "id": "3ba284c9",
   "metadata": {},
   "outputs": [
    {
     "name": "stdout",
     "output_type": "stream",
     "text": [
      "a= 10\n",
      "b= 20\n",
      "(100, 200, 700)\n",
      "100\n",
      "200\n"
     ]
    }
   ],
   "source": [
    "\n",
    "def my_func(a, b, *my_arg ):\n",
    "    print(\"a=\",a )\n",
    "    print(\"b=\",b )\n",
    "    print(my_arg)\n",
    "    print(my_arg[0])\n",
    "    print(my_arg[1])\n",
    "    \n",
    "my_func(10, 20, 100, 200, 700)    "
   ]
  },
  {
   "cell_type": "code",
   "execution_count": 48,
   "id": "9f16c1aa",
   "metadata": {},
   "outputs": [
    {
     "name": "stdout",
     "output_type": "stream",
     "text": [
      "10\n",
      "{'a': 10, 'b': 20, 'c': 30, 'd': 40}\n"
     ]
    }
   ],
   "source": [
    "#Arbitrary Keyword Arguments\n",
    "\n",
    "def my_func(**my_arg ):\n",
    "    print(my_arg['a'])\n",
    "    print(my_arg)\n",
    "    \n",
    "my_func( a= 10, b= 20, c= 30, d= 40)   "
   ]
  },
  {
   "cell_type": "code",
   "execution_count": 49,
   "id": "50f69e4e",
   "metadata": {},
   "outputs": [
    {
     "name": "stdout",
     "output_type": "stream",
     "text": [
      "10\n",
      "20\n",
      "{'c': 30, 'd': 40}\n"
     ]
    }
   ],
   "source": [
    "def my_func(a, b, **my_arg ):\n",
    "    print(a)\n",
    "    print(b)\n",
    "    print(my_arg)\n",
    "    \n",
    "my_func( a= 10, b= 20, c= 30, d= 40)   "
   ]
  },
  {
   "cell_type": "code",
   "execution_count": null,
   "id": "4ffe58ec",
   "metadata": {},
   "outputs": [],
   "source": []
  }
 ],
 "metadata": {
  "kernelspec": {
   "display_name": "Python 3 (ipykernel)",
   "language": "python",
   "name": "python3"
  },
  "language_info": {
   "codemirror_mode": {
    "name": "ipython",
    "version": 3
   },
   "file_extension": ".py",
   "mimetype": "text/x-python",
   "name": "python",
   "nbconvert_exporter": "python",
   "pygments_lexer": "ipython3",
   "version": "3.9.7"
  }
 },
 "nbformat": 4,
 "nbformat_minor": 5
}
