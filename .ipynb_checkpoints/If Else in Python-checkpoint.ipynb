{
 "cells": [
  {
   "cell_type": "markdown",
   "id": "7fa7c2d3",
   "metadata": {},
   "source": [
    "# Python If Else"
   ]
  },
  {
   "cell_type": "raw",
   "id": "745d881c",
   "metadata": {},
   "source": [
    "if  condition:\n",
    "    statemnet1\n",
    "    statemnet2\n",
    "    statemnet3"
   ]
  },
  {
   "cell_type": "code",
   "execution_count": null,
   "id": "919495fe",
   "metadata": {},
   "outputs": [],
   "source": []
  }
 ],
 "metadata": {
  "kernelspec": {
   "display_name": "Python 3 (ipykernel)",
   "language": "python",
   "name": "python3"
  },
  "language_info": {
   "codemirror_mode": {
    "name": "ipython",
    "version": 3
   },
   "file_extension": ".py",
   "mimetype": "text/x-python",
   "name": "python",
   "nbconvert_exporter": "python",
   "pygments_lexer": "ipython3",
   "version": "3.9.7"
  }
 },
 "nbformat": 4,
 "nbformat_minor": 5
}
