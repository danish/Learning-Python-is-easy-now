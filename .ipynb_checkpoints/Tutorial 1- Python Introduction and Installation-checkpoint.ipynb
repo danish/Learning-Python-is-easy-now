{
 "cells": [
  {
   "cell_type": "markdown",
   "id": "05e13a2a",
   "metadata": {},
   "source": [
    "# Tutorial 2- Python Comments, Indentation & Variables\n"
   ]
  },
  {
   "cell_type": "code",
   "execution_count": 7,
   "id": "3c2607b8",
   "metadata": {},
   "outputs": [
    {
     "name": "stdout",
     "output_type": "stream",
     "text": [
      "300\n"
     ]
    }
   ],
   "source": [
    "#This is code to add two number\n",
    "'''\n",
    "THis is multi code commment\n",
    "THis is multi code commment\n",
    "THis is multi code commment\n",
    "THis is multi code commment\n",
    "THis is multi code commment\n",
    "'''\n",
    "x = 100\n",
    "y = 200\n",
    "\n",
    "z = x + y\n",
    "\n",
    "print(z)"
   ]
  },
  {
   "cell_type": "markdown",
   "id": "4ac018d4",
   "metadata": {},
   "source": [
    "1. A-Z , a-z, 0-9, _\n",
    "2. Varibale name can not start with digit"
   ]
  },
  {
   "cell_type": "code",
   "execution_count": 16,
   "id": "3348e6ce",
   "metadata": {},
   "outputs": [],
   "source": [
    "Name = \"Mike\""
   ]
  },
  {
   "cell_type": "code",
   "execution_count": 17,
   "id": "d5a2ed35",
   "metadata": {},
   "outputs": [
    {
     "name": "stdout",
     "output_type": "stream",
     "text": [
      "Mike\n"
     ]
    }
   ],
   "source": [
    "print(name)"
   ]
  },
  {
   "cell_type": "code",
   "execution_count": 19,
   "id": "10594992",
   "metadata": {},
   "outputs": [],
   "source": [
    "studentAge = 24"
   ]
  },
  {
   "cell_type": "code",
   "execution_count": 20,
   "id": "f5157fe8",
   "metadata": {},
   "outputs": [],
   "source": [
    "StudentAge = 30"
   ]
  },
  {
   "cell_type": "code",
   "execution_count": 21,
   "id": "8e167180",
   "metadata": {},
   "outputs": [],
   "source": [
    "studnet_age = 23"
   ]
  },
  {
   "cell_type": "code",
   "execution_count": 22,
   "id": "3e4c23ef",
   "metadata": {},
   "outputs": [
    {
     "name": "stdout",
     "output_type": "stream",
     "text": [
      "10\n",
      "10\n",
      "10\n"
     ]
    }
   ],
   "source": [
    "x = y =z = 10\n",
    "print(x)\n",
    "print(y)\n",
    "print(z)"
   ]
  },
  {
   "cell_type": "code",
   "execution_count": 23,
   "id": "6eb3957a",
   "metadata": {},
   "outputs": [
    {
     "name": "stdout",
     "output_type": "stream",
     "text": [
      "10\n",
      "20\n",
      "30\n"
     ]
    }
   ],
   "source": [
    "x , y, z = 10,20,30\n",
    "print(x)\n",
    "print(y)\n",
    "print(z)\n"
   ]
  },
  {
   "cell_type": "code",
   "execution_count": 39,
   "id": "fb7d3b35",
   "metadata": {},
   "outputs": [
    {
     "name": "stdout",
     "output_type": "stream",
     "text": [
      "<class 'int'>\n",
      "<class 'str'>\n",
      "<class 'float'>\n"
     ]
    }
   ],
   "source": [
    "x = 10  #int\n",
    "name = \"10\"  #string\n",
    "price = 10.50  #float\n",
    "\n",
    "print(type(x))\n",
    "print(type(name))\n",
    "print(type(price))\n",
    "\n"
   ]
  },
  {
   "cell_type": "code",
   "execution_count": 40,
   "id": "2ae05422",
   "metadata": {},
   "outputs": [
    {
     "name": "stdout",
     "output_type": "stream",
     "text": [
      "<class 'float'>\n",
      "10\n",
      "10\n"
     ]
    }
   ],
   "source": [
    "a = float(x)\n",
    "print(type(a))\n",
    "\n",
    "print( int(price))\n",
    "\n",
    "print( int(name))\n",
    "\n"
   ]
  },
  {
   "cell_type": "code",
   "execution_count": null,
   "id": "dea8c1ce",
   "metadata": {},
   "outputs": [],
   "source": []
  },
  {
   "cell_type": "code",
   "execution_count": null,
   "id": "e2246a80",
   "metadata": {},
   "outputs": [],
   "source": []
  }
 ],
 "metadata": {
  "kernelspec": {
   "display_name": "Python 3 (ipykernel)",
   "language": "python",
   "name": "python3"
  },
  "language_info": {
   "codemirror_mode": {
    "name": "ipython",
    "version": 3
   },
   "file_extension": ".py",
   "mimetype": "text/x-python",
   "name": "python",
   "nbconvert_exporter": "python",
   "pygments_lexer": "ipython3",
   "version": "3.9.7"
  }
 },
 "nbformat": 4,
 "nbformat_minor": 5
}
