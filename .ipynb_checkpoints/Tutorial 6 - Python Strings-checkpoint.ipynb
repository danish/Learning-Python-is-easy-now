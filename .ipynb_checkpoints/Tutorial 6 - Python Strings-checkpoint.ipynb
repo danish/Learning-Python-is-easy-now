{
 "cells": [
  {
   "cell_type": "markdown",
   "id": "cd59f434",
   "metadata": {},
   "source": [
    "# Tutorial 6 - Python Strings"
   ]
  },
  {
   "cell_type": "raw",
   "id": "74635abc",
   "metadata": {},
   "source": [
    "String Declaration  (Single and Multiple Line)\n",
    "Strings are Arrays and nagetive Indexing\n",
    "String Lenght\n",
    "String \"in\" and \"not in\" operator\n",
    "String Slicing and slicing using Nagetive Indexing\n",
    "String Concatenation\n",
    "String functions upper(), lower(), title, find(), replace()\n",
    "String Format\n",
    "String Escaping\n",
    "List of String Functions"
   ]
  },
  {
   "cell_type": "code",
   "execution_count": 2,
   "id": "bd27525e",
   "metadata": {},
   "outputs": [
    {
     "name": "stdout",
     "output_type": "stream",
     "text": [
      "This is an example of Python String\n",
      "<class 'str'>\n"
     ]
    }
   ],
   "source": [
    "x = 'This is an example of Python String'\n",
    "print(x)\n",
    "print(type(x))"
   ]
  },
  {
   "cell_type": "code",
   "execution_count": 5,
   "id": "11c37da1",
   "metadata": {},
   "outputs": [
    {
     "name": "stdout",
     "output_type": "stream",
     "text": [
      "This is an example of Python String \n",
      "This is an example of Python String\n",
      "This is an example of Python String\n",
      "This is an example of Python String\n",
      "This is an example of Python String\n",
      "<class 'str'>\n"
     ]
    }
   ],
   "source": [
    "str = '''This is an example of Python String \n",
    "This is an example of Python String\n",
    "This is an example of Python String\n",
    "This is an example of Python String\n",
    "This is an example of Python String'''\n",
    "\n",
    "print(str)\n",
    "\n",
    "print(type(str))"
   ]
  },
  {
   "cell_type": "code",
   "execution_count": 16,
   "id": "351b41e8",
   "metadata": {},
   "outputs": [
    {
     "name": "stdout",
     "output_type": "stream",
     "text": [
      "Python Programming\n",
      "m\n"
     ]
    }
   ],
   "source": [
    "x = \"Python Programming\"\n",
    "print(x)\n",
    "#print(x[12])\n",
    "print(x[-4])"
   ]
  },
  {
   "cell_type": "code",
   "execution_count": 17,
   "id": "c7cda9df",
   "metadata": {},
   "outputs": [
    {
     "name": "stdout",
     "output_type": "stream",
     "text": [
      "18\n"
     ]
    }
   ],
   "source": [
    "#len()\n",
    "print(len(x))"
   ]
  },
  {
   "cell_type": "code",
   "execution_count": 21,
   "id": "d3b43fea",
   "metadata": {},
   "outputs": [
    {
     "name": "stdout",
     "output_type": "stream",
     "text": [
      "False\n"
     ]
    }
   ],
   "source": [
    "# \"in\" and \"not in\"\n",
    "\n",
    "x =  \"The world is a awesome place\"\n",
    "\n",
    "#print( \"awesome\" in x )\n",
    "#print( \"bad\" in x )\n",
    "\n",
    "print( \"awesome\" not in x)"
   ]
  },
  {
   "cell_type": "code",
   "execution_count": 30,
   "id": "eba81ec1",
   "metadata": {},
   "outputs": [
    {
     "name": "stdout",
     "output_type": "stream",
     "text": [
      "thon Pr\n",
      "thon Program\n",
      "Python Pr\n",
      "on Progr\n",
      "on Program\n",
      "Python Progr\n",
      "thon Prog\n"
     ]
    }
   ],
   "source": [
    "x = \"Python Program\"\n",
    "\n",
    "print(x[2:9]) #9 is not included\n",
    "\n",
    "#x[start:end] #end is not included\n",
    "\n",
    "print(x[2:])\n",
    "\n",
    "print(x[:9])\n",
    "\n",
    "print( x[-10:-2])\n",
    "\n",
    "print( x[-10:])\n",
    "print( x[:-2])\n",
    "\n",
    "print( x[2:-3])"
   ]
  },
  {
   "cell_type": "code",
   "execution_count": 31,
   "id": "eaae9997",
   "metadata": {},
   "outputs": [
    {
     "name": "stdout",
     "output_type": "stream",
     "text": [
      "HelloWorld!\n"
     ]
    }
   ],
   "source": [
    "#string Concatenation\n",
    "\n",
    "x = \"Hello\"\n",
    "y = \"World!\"\n",
    "\n",
    "z = x +' '+ y\n",
    "\n",
    "print(z)"
   ]
  },
  {
   "cell_type": "code",
   "execution_count": null,
   "id": "d2931799",
   "metadata": {},
   "outputs": [],
   "source": []
  }
 ],
 "metadata": {
  "kernelspec": {
   "display_name": "Python 3 (ipykernel)",
   "language": "python",
   "name": "python3"
  },
  "language_info": {
   "codemirror_mode": {
    "name": "ipython",
    "version": 3
   },
   "file_extension": ".py",
   "mimetype": "text/x-python",
   "name": "python",
   "nbconvert_exporter": "python",
   "pygments_lexer": "ipython3",
   "version": "3.9.7"
  }
 },
 "nbformat": 4,
 "nbformat_minor": 5
}
