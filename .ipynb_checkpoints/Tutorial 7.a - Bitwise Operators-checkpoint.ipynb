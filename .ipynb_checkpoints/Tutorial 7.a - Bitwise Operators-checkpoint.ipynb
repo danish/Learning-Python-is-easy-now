{
 "cells": [
  {
   "cell_type": "markdown",
   "id": "84ad7212",
   "metadata": {},
   "source": [
    "# Tutorial 7.a - Bitwise Operator\n"
   ]
  },
  {
   "cell_type": "raw",
   "id": "a9a5531a",
   "metadata": {},
   "source": [
    "Bitwise AND (&)\n",
    "Bitwise OR (|)\n",
    "Bitwise NOT (~)\n",
    "Bitwise XOR (^)\n",
    "Bitwise left shift (<<)\n",
    "Bitwise right shift (>>)"
   ]
  },
  {
   "cell_type": "code",
   "execution_count": null,
   "id": "efdf972f",
   "metadata": {},
   "outputs": [],
   "source": []
  }
 ],
 "metadata": {
  "kernelspec": {
   "display_name": "Python 3 (ipykernel)",
   "language": "python",
   "name": "python3"
  },
  "language_info": {
   "codemirror_mode": {
    "name": "ipython",
    "version": 3
   },
   "file_extension": ".py",
   "mimetype": "text/x-python",
   "name": "python",
   "nbconvert_exporter": "python",
   "pygments_lexer": "ipython3",
   "version": "3.9.7"
  }
 },
 "nbformat": 4,
 "nbformat_minor": 5
}
