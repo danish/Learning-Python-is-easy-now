{
 "cells": [
  {
   "cell_type": "markdown",
   "id": "09fb696f",
   "metadata": {},
   "source": [
    "# Continue\n"
   ]
  },
  {
   "cell_type": "code",
   "execution_count": 6,
   "id": "18864cd0",
   "metadata": {},
   "outputs": [
    {
     "name": "stdout",
     "output_type": "stream",
     "text": [
      "in\n",
      "1\n",
      "in\n",
      "2\n",
      "in\n",
      "3\n",
      "in\n",
      "4\n",
      "in\n",
      "5\n",
      "in\n",
      "continue\n",
      "in\n",
      "7\n",
      "in\n",
      "8\n",
      "in\n",
      "9\n",
      "in\n",
      "10\n"
     ]
    }
   ],
   "source": [
    "for i in range(1, 11):\n",
    "    print('in')\n",
    "    if i == 6:\n",
    "        print('continue')\n",
    "        continue\n",
    "        \n",
    "    print(i)"
   ]
  },
  {
   "cell_type": "code",
   "execution_count": 9,
   "id": "26d0def8",
   "metadata": {},
   "outputs": [
    {
     "name": "stdout",
     "output_type": "stream",
     "text": [
      "1\n",
      "2\n",
      "3\n",
      "4\n",
      "5\n",
      "continue\n",
      "7\n",
      "8\n",
      "9\n",
      "10\n"
     ]
    }
   ],
   "source": [
    "i = 1\n",
    "while i <= 10:\n",
    "    if i == 6:\n",
    "        print('continue')\n",
    "        i += 1 \n",
    "        continue\n",
    "        \n",
    "    print(i)\n",
    "    i += 1 "
   ]
  },
  {
   "cell_type": "code",
   "execution_count": 12,
   "id": "e6863c26",
   "metadata": {},
   "outputs": [
    {
     "name": "stdout",
     "output_type": "stream",
     "text": [
      "Please enter any stringNEW DELHI\n",
      "N\n",
      "W\n",
      " \n",
      "D\n",
      "L\n",
      "H\n"
     ]
    }
   ],
   "source": [
    "str = input(\"Please enter any string\")\n",
    "#New Delhi\n",
    "\n",
    "vowels = \"aeiouAEIOU\"\n",
    "\n",
    "for x in str:\n",
    "    if x in vowels:\n",
    "        continue\n",
    "    \n",
    "    print(x)\n",
    "    "
   ]
  },
  {
   "cell_type": "markdown",
   "id": "5c6d6341",
   "metadata": {},
   "source": [
    "# Break"
   ]
  },
  {
   "cell_type": "code",
   "execution_count": 13,
   "id": "46f35790",
   "metadata": {},
   "outputs": [
    {
     "name": "stdout",
     "output_type": "stream",
     "text": [
      "1\n",
      "2\n",
      "3\n",
      "4\n",
      "5\n",
      "break\n",
      "End\n"
     ]
    }
   ],
   "source": [
    "for i in range(1, 11):\n",
    "    \n",
    "    if i == 6:\n",
    "        print('break')\n",
    "        break\n",
    "        \n",
    "    print(i)\n",
    "\n",
    "print('End')"
   ]
  },
  {
   "cell_type": "code",
   "execution_count": 14,
   "id": "404411fc",
   "metadata": {},
   "outputs": [
    {
     "name": "stdout",
     "output_type": "stream",
     "text": [
      "1\n",
      "2\n",
      "3\n",
      "4\n",
      "5\n",
      "break\n"
     ]
    }
   ],
   "source": [
    "i = 1\n",
    "while i <= 10:\n",
    "    if i == 6:\n",
    "        print('break')\n",
    "        i += 1 \n",
    "        break\n",
    "        \n",
    "    print(i)\n",
    "    i += 1 \n",
    "    "
   ]
  },
  {
   "cell_type": "code",
   "execution_count": 16,
   "id": "817b3c64",
   "metadata": {},
   "outputs": [
    {
     "name": "stdout",
     "output_type": "stream",
     "text": [
      "1\n",
      "2\n",
      "3\n",
      "4\n",
      "5\n",
      "break\n"
     ]
    }
   ],
   "source": [
    "i = 1\n",
    "while i <= 10:\n",
    "    if i == 6:\n",
    "        print('break')\n",
    "        i += 1 \n",
    "        break\n",
    "    print(i)\n",
    "    i += 1 \n",
    "else:\n",
    "    print(\"While ELse\")\n",
    "    "
   ]
  },
  {
   "cell_type": "code",
   "execution_count": 19,
   "id": "8b78d8da",
   "metadata": {},
   "outputs": [
    {
     "name": "stdout",
     "output_type": "stream",
     "text": [
      "Please enter any number17\n",
      "Number is a prime\n"
     ]
    }
   ],
   "source": [
    "number = int(input(\"Please enter any number\"))\n",
    "\n",
    "i = 2\n",
    "flag = False\n",
    "\n",
    "while i < number:\n",
    "    \n",
    "    if number % i == 0 :\n",
    "        flag = True\n",
    "        print(\"Break\")\n",
    "        break\n",
    "    i += 1\n",
    "\n",
    "    \n",
    "if flag == True :\n",
    "    print(\"Number is not a prime\")\n",
    "else:\n",
    "    print(\"Number is a prime\")"
   ]
  },
  {
   "cell_type": "code",
   "execution_count": null,
   "id": "d7df558c",
   "metadata": {},
   "outputs": [],
   "source": []
  }
 ],
 "metadata": {
  "kernelspec": {
   "display_name": "Python 3 (ipykernel)",
   "language": "python",
   "name": "python3"
  },
  "language_info": {
   "codemirror_mode": {
    "name": "ipython",
    "version": 3
   },
   "file_extension": ".py",
   "mimetype": "text/x-python",
   "name": "python",
   "nbconvert_exporter": "python",
   "pygments_lexer": "ipython3",
   "version": "3.9.7"
  }
 },
 "nbformat": 4,
 "nbformat_minor": 5
}
