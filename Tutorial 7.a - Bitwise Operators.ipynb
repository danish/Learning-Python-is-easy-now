{
 "cells": [
  {
   "cell_type": "markdown",
   "id": "84ad7212",
   "metadata": {},
   "source": [
    "# Tutorial 7.a - Bitwise Operators\n"
   ]
  },
  {
   "cell_type": "raw",
   "id": "a9a5531a",
   "metadata": {},
   "source": [
    "Bitwise AND (&)\n",
    "Bitwise OR (|)\n",
    "Bitwise NOT (~)\n",
    "Bitwise XOR (^)\n",
    "Bitwise left shift (<<)\n",
    "Bitwise right shift (>>)"
   ]
  },
  {
   "cell_type": "code",
   "execution_count": 3,
   "id": "2d608d53",
   "metadata": {},
   "outputs": [
    {
     "name": "stdout",
     "output_type": "stream",
     "text": [
      "19\n"
     ]
    }
   ],
   "source": [
    "x = 55\n",
    "y = 19\n",
    "\n",
    "print( x & y )"
   ]
  },
  {
   "cell_type": "code",
   "execution_count": 4,
   "id": "c275bcfe",
   "metadata": {},
   "outputs": [
    {
     "name": "stdout",
     "output_type": "stream",
     "text": [
      "55\n"
     ]
    }
   ],
   "source": [
    "print( x | y )"
   ]
  },
  {
   "cell_type": "code",
   "execution_count": 5,
   "id": "4bcb6b0c",
   "metadata": {},
   "outputs": [
    {
     "name": "stdout",
     "output_type": "stream",
     "text": [
      "-56\n"
     ]
    }
   ],
   "source": [
    "print( ~x )"
   ]
  },
  {
   "cell_type": "code",
   "execution_count": 6,
   "id": "63942154",
   "metadata": {},
   "outputs": [
    {
     "name": "stdout",
     "output_type": "stream",
     "text": [
      "220\n"
     ]
    }
   ],
   "source": [
    "#x << 2\n",
    "print( x << 2 )"
   ]
  },
  {
   "cell_type": "code",
   "execution_count": null,
   "id": "eea20368",
   "metadata": {},
   "outputs": [],
   "source": []
  }
 ],
 "metadata": {
  "kernelspec": {
   "display_name": "Python 3 (ipykernel)",
   "language": "python",
   "name": "python3"
  },
  "language_info": {
   "codemirror_mode": {
    "name": "ipython",
    "version": 3
   },
   "file_extension": ".py",
   "mimetype": "text/x-python",
   "name": "python",
   "nbconvert_exporter": "python",
   "pygments_lexer": "ipython3",
   "version": "3.9.7"
  }
 },
 "nbformat": 4,
 "nbformat_minor": 5
}
